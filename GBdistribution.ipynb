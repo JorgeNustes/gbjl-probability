{
 "metadata": {
  "language_info": {
   "codemirror_mode": {
    "name": "ipython",
    "version": 3
   },
   "file_extension": ".py",
   "mimetype": "text/x-python",
   "name": "python",
   "nbconvert_exporter": "python",
   "pygments_lexer": "ipython3",
   "version": "3.7.10"
  },
  "orig_nbformat": 2,
  "kernelspec": {
   "name": "python3710jvsc74a57bd0ee28f1ec57d443f4d774f6072002479e287ae8fe4d6b5868f5dbc575c0cd3de5",
   "display_name": "Python 3.7.10 64-bit ('test': conda)"
  },
  "metadata": {
   "interpreter": {
    "hash": "ee28f1ec57d443f4d774f6072002479e287ae8fe4d6b5868f5dbc575c0cd3de5"
   }
  }
 },
 "nbformat": 4,
 "nbformat_minor": 2,
 "cells": [
  {
   "source": [
    "# The casino roulette wheel and its distributions\n",
    "## Understanding Gaussian and Binomial distributions. \n",
    "## Tutorial using the `gbjl-probability` Python package.\n",
    "**Author:** Jorge Nustes Andrade"
   ],
   "cell_type": "markdown",
   "metadata": {}
  },
  {
   "source": [
    "Spinning a casino roulette wheel is a clear example of an experiment that generates aleatory events. The sample space of an American roulette are the possible numbers that the ball could land in (i.e., 38 {0,1,2,3,...,36,0,00}). The probability of winning $x$ times at $n$ consecutive trials when playing the roulette can be modeled using a **Binomial Distribution**. In this case, we assume that only two outcomes are possible; you either win or lose. This is generally true if you put all your bets on a single number of the roulette at every spin. Keep in mind that each spin is independent from the previous one, meaning that getting a particular number on the present trial will not determine the outcome of the next trial. The mean of a Binomial distribution is expressed assume\n",
    "$$\n",
    "\\mu=np,\n",
    "$$\n",
    "where $p$ is the probabiblity of success of an individual trial. In the American roulette $p=1/38\\approx0.026$. The luck factor is calculated using the standard deviation $\\sigma$. The latter is defined as \n",
    "$$\n",
    "\\sigma=\\sqrt{np(1-p)},\n",
    "$$\n",
    "where the term in parenthesus equals the probability of losing. The probability density function (PDF) of winning $x$ times during $n$ consecutive spins of the roulette is\n",
    "$$\n",
    "P=\\left(\\frac{n!}{x!(n-x)!}\\right)(p)^{x}(1-p)^{n-x}.\n",
    "$$\n",
    "Let's model the probability of winning at the roulette using a Binomial distribution. "
   ],
   "cell_type": "markdown",
   "metadata": {}
  },
  {
   "source": [
    "First, install the `gbjl-probability` use `pip install gbjl-probability` on terminal. Next import the required libraries."
   ],
   "cell_type": "markdown",
   "metadata": {}
  },
  {
   "cell_type": "code",
   "execution_count": 1,
   "metadata": {},
   "outputs": [],
   "source": [
    "import math\n",
    "import random\n",
    "import plotly.graph_objects as go\n",
    "from gbjl_probability import Gaussian, Binomial"
   ]
  },
  {
   "source": [
    "Create a Binomial object with a probability of success of $p=1/38$ and $n=20$ plays of the roulette."
   ],
   "cell_type": "markdown",
   "metadata": {}
  },
  {
   "cell_type": "code",
   "execution_count": 2,
   "metadata": {},
   "outputs": [],
   "source": [
    "binomial = Binomial(1/38, 20)"
   ]
  },
  {
   "source": [
    "The distribution of outcomes can be inspected by calling the `plot_bar()` attribute of the `binomial` object. "
   ],
   "cell_type": "markdown",
   "metadata": {}
  },
  {
   "cell_type": "code",
   "execution_count": 3,
   "metadata": {},
   "outputs": [
    {
     "output_type": "display_data",
     "data": {
      "application/vnd.plotly.v1+json": {
       "config": {
        "plotlyServerURL": "https://plot.ly"
       },
       "data": [
        {
         "type": "bar",
         "x": [
          "Non-desired",
          "Desired"
         ],
         "y": [
          19.473684210526315,
          0.5263157894736842
         ]
        }
       ],
       "layout": {
        "template": {
         "data": {
          "bar": [
           {
            "error_x": {
             "color": "#2a3f5f"
            },
            "error_y": {
             "color": "#2a3f5f"
            },
            "marker": {
             "line": {
              "color": "#E5ECF6",
              "width": 0.5
             }
            },
            "type": "bar"
           }
          ],
          "barpolar": [
           {
            "marker": {
             "line": {
              "color": "#E5ECF6",
              "width": 0.5
             }
            },
            "type": "barpolar"
           }
          ],
          "carpet": [
           {
            "aaxis": {
             "endlinecolor": "#2a3f5f",
             "gridcolor": "white",
             "linecolor": "white",
             "minorgridcolor": "white",
             "startlinecolor": "#2a3f5f"
            },
            "baxis": {
             "endlinecolor": "#2a3f5f",
             "gridcolor": "white",
             "linecolor": "white",
             "minorgridcolor": "white",
             "startlinecolor": "#2a3f5f"
            },
            "type": "carpet"
           }
          ],
          "choropleth": [
           {
            "colorbar": {
             "outlinewidth": 0,
             "ticks": ""
            },
            "type": "choropleth"
           }
          ],
          "contour": [
           {
            "colorbar": {
             "outlinewidth": 0,
             "ticks": ""
            },
            "colorscale": [
             [
              0,
              "#0d0887"
             ],
             [
              0.1111111111111111,
              "#46039f"
             ],
             [
              0.2222222222222222,
              "#7201a8"
             ],
             [
              0.3333333333333333,
              "#9c179e"
             ],
             [
              0.4444444444444444,
              "#bd3786"
             ],
             [
              0.5555555555555556,
              "#d8576b"
             ],
             [
              0.6666666666666666,
              "#ed7953"
             ],
             [
              0.7777777777777778,
              "#fb9f3a"
             ],
             [
              0.8888888888888888,
              "#fdca26"
             ],
             [
              1,
              "#f0f921"
             ]
            ],
            "type": "contour"
           }
          ],
          "contourcarpet": [
           {
            "colorbar": {
             "outlinewidth": 0,
             "ticks": ""
            },
            "type": "contourcarpet"
           }
          ],
          "heatmap": [
           {
            "colorbar": {
             "outlinewidth": 0,
             "ticks": ""
            },
            "colorscale": [
             [
              0,
              "#0d0887"
             ],
             [
              0.1111111111111111,
              "#46039f"
             ],
             [
              0.2222222222222222,
              "#7201a8"
             ],
             [
              0.3333333333333333,
              "#9c179e"
             ],
             [
              0.4444444444444444,
              "#bd3786"
             ],
             [
              0.5555555555555556,
              "#d8576b"
             ],
             [
              0.6666666666666666,
              "#ed7953"
             ],
             [
              0.7777777777777778,
              "#fb9f3a"
             ],
             [
              0.8888888888888888,
              "#fdca26"
             ],
             [
              1,
              "#f0f921"
             ]
            ],
            "type": "heatmap"
           }
          ],
          "heatmapgl": [
           {
            "colorbar": {
             "outlinewidth": 0,
             "ticks": ""
            },
            "colorscale": [
             [
              0,
              "#0d0887"
             ],
             [
              0.1111111111111111,
              "#46039f"
             ],
             [
              0.2222222222222222,
              "#7201a8"
             ],
             [
              0.3333333333333333,
              "#9c179e"
             ],
             [
              0.4444444444444444,
              "#bd3786"
             ],
             [
              0.5555555555555556,
              "#d8576b"
             ],
             [
              0.6666666666666666,
              "#ed7953"
             ],
             [
              0.7777777777777778,
              "#fb9f3a"
             ],
             [
              0.8888888888888888,
              "#fdca26"
             ],
             [
              1,
              "#f0f921"
             ]
            ],
            "type": "heatmapgl"
           }
          ],
          "histogram": [
           {
            "marker": {
             "colorbar": {
              "outlinewidth": 0,
              "ticks": ""
             }
            },
            "type": "histogram"
           }
          ],
          "histogram2d": [
           {
            "colorbar": {
             "outlinewidth": 0,
             "ticks": ""
            },
            "colorscale": [
             [
              0,
              "#0d0887"
             ],
             [
              0.1111111111111111,
              "#46039f"
             ],
             [
              0.2222222222222222,
              "#7201a8"
             ],
             [
              0.3333333333333333,
              "#9c179e"
             ],
             [
              0.4444444444444444,
              "#bd3786"
             ],
             [
              0.5555555555555556,
              "#d8576b"
             ],
             [
              0.6666666666666666,
              "#ed7953"
             ],
             [
              0.7777777777777778,
              "#fb9f3a"
             ],
             [
              0.8888888888888888,
              "#fdca26"
             ],
             [
              1,
              "#f0f921"
             ]
            ],
            "type": "histogram2d"
           }
          ],
          "histogram2dcontour": [
           {
            "colorbar": {
             "outlinewidth": 0,
             "ticks": ""
            },
            "colorscale": [
             [
              0,
              "#0d0887"
             ],
             [
              0.1111111111111111,
              "#46039f"
             ],
             [
              0.2222222222222222,
              "#7201a8"
             ],
             [
              0.3333333333333333,
              "#9c179e"
             ],
             [
              0.4444444444444444,
              "#bd3786"
             ],
             [
              0.5555555555555556,
              "#d8576b"
             ],
             [
              0.6666666666666666,
              "#ed7953"
             ],
             [
              0.7777777777777778,
              "#fb9f3a"
             ],
             [
              0.8888888888888888,
              "#fdca26"
             ],
             [
              1,
              "#f0f921"
             ]
            ],
            "type": "histogram2dcontour"
           }
          ],
          "mesh3d": [
           {
            "colorbar": {
             "outlinewidth": 0,
             "ticks": ""
            },
            "type": "mesh3d"
           }
          ],
          "parcoords": [
           {
            "line": {
             "colorbar": {
              "outlinewidth": 0,
              "ticks": ""
             }
            },
            "type": "parcoords"
           }
          ],
          "pie": [
           {
            "automargin": true,
            "type": "pie"
           }
          ],
          "scatter": [
           {
            "marker": {
             "colorbar": {
              "outlinewidth": 0,
              "ticks": ""
             }
            },
            "type": "scatter"
           }
          ],
          "scatter3d": [
           {
            "line": {
             "colorbar": {
              "outlinewidth": 0,
              "ticks": ""
             }
            },
            "marker": {
             "colorbar": {
              "outlinewidth": 0,
              "ticks": ""
             }
            },
            "type": "scatter3d"
           }
          ],
          "scattercarpet": [
           {
            "marker": {
             "colorbar": {
              "outlinewidth": 0,
              "ticks": ""
             }
            },
            "type": "scattercarpet"
           }
          ],
          "scattergeo": [
           {
            "marker": {
             "colorbar": {
              "outlinewidth": 0,
              "ticks": ""
             }
            },
            "type": "scattergeo"
           }
          ],
          "scattergl": [
           {
            "marker": {
             "colorbar": {
              "outlinewidth": 0,
              "ticks": ""
             }
            },
            "type": "scattergl"
           }
          ],
          "scattermapbox": [
           {
            "marker": {
             "colorbar": {
              "outlinewidth": 0,
              "ticks": ""
             }
            },
            "type": "scattermapbox"
           }
          ],
          "scatterpolar": [
           {
            "marker": {
             "colorbar": {
              "outlinewidth": 0,
              "ticks": ""
             }
            },
            "type": "scatterpolar"
           }
          ],
          "scatterpolargl": [
           {
            "marker": {
             "colorbar": {
              "outlinewidth": 0,
              "ticks": ""
             }
            },
            "type": "scatterpolargl"
           }
          ],
          "scatterternary": [
           {
            "marker": {
             "colorbar": {
              "outlinewidth": 0,
              "ticks": ""
             }
            },
            "type": "scatterternary"
           }
          ],
          "surface": [
           {
            "colorbar": {
             "outlinewidth": 0,
             "ticks": ""
            },
            "colorscale": [
             [
              0,
              "#0d0887"
             ],
             [
              0.1111111111111111,
              "#46039f"
             ],
             [
              0.2222222222222222,
              "#7201a8"
             ],
             [
              0.3333333333333333,
              "#9c179e"
             ],
             [
              0.4444444444444444,
              "#bd3786"
             ],
             [
              0.5555555555555556,
              "#d8576b"
             ],
             [
              0.6666666666666666,
              "#ed7953"
             ],
             [
              0.7777777777777778,
              "#fb9f3a"
             ],
             [
              0.8888888888888888,
              "#fdca26"
             ],
             [
              1,
              "#f0f921"
             ]
            ],
            "type": "surface"
           }
          ],
          "table": [
           {
            "cells": {
             "fill": {
              "color": "#EBF0F8"
             },
             "line": {
              "color": "white"
             }
            },
            "header": {
             "fill": {
              "color": "#C8D4E3"
             },
             "line": {
              "color": "white"
             }
            },
            "type": "table"
           }
          ]
         },
         "layout": {
          "annotationdefaults": {
           "arrowcolor": "#2a3f5f",
           "arrowhead": 0,
           "arrowwidth": 1
          },
          "autotypenumbers": "strict",
          "coloraxis": {
           "colorbar": {
            "outlinewidth": 0,
            "ticks": ""
           }
          },
          "colorscale": {
           "diverging": [
            [
             0,
             "#8e0152"
            ],
            [
             0.1,
             "#c51b7d"
            ],
            [
             0.2,
             "#de77ae"
            ],
            [
             0.3,
             "#f1b6da"
            ],
            [
             0.4,
             "#fde0ef"
            ],
            [
             0.5,
             "#f7f7f7"
            ],
            [
             0.6,
             "#e6f5d0"
            ],
            [
             0.7,
             "#b8e186"
            ],
            [
             0.8,
             "#7fbc41"
            ],
            [
             0.9,
             "#4d9221"
            ],
            [
             1,
             "#276419"
            ]
           ],
           "sequential": [
            [
             0,
             "#0d0887"
            ],
            [
             0.1111111111111111,
             "#46039f"
            ],
            [
             0.2222222222222222,
             "#7201a8"
            ],
            [
             0.3333333333333333,
             "#9c179e"
            ],
            [
             0.4444444444444444,
             "#bd3786"
            ],
            [
             0.5555555555555556,
             "#d8576b"
            ],
            [
             0.6666666666666666,
             "#ed7953"
            ],
            [
             0.7777777777777778,
             "#fb9f3a"
            ],
            [
             0.8888888888888888,
             "#fdca26"
            ],
            [
             1,
             "#f0f921"
            ]
           ],
           "sequentialminus": [
            [
             0,
             "#0d0887"
            ],
            [
             0.1111111111111111,
             "#46039f"
            ],
            [
             0.2222222222222222,
             "#7201a8"
            ],
            [
             0.3333333333333333,
             "#9c179e"
            ],
            [
             0.4444444444444444,
             "#bd3786"
            ],
            [
             0.5555555555555556,
             "#d8576b"
            ],
            [
             0.6666666666666666,
             "#ed7953"
            ],
            [
             0.7777777777777778,
             "#fb9f3a"
            ],
            [
             0.8888888888888888,
             "#fdca26"
            ],
            [
             1,
             "#f0f921"
            ]
           ]
          },
          "colorway": [
           "#636efa",
           "#EF553B",
           "#00cc96",
           "#ab63fa",
           "#FFA15A",
           "#19d3f3",
           "#FF6692",
           "#B6E880",
           "#FF97FF",
           "#FECB52"
          ],
          "font": {
           "color": "#2a3f5f"
          },
          "geo": {
           "bgcolor": "white",
           "lakecolor": "white",
           "landcolor": "#E5ECF6",
           "showlakes": true,
           "showland": true,
           "subunitcolor": "white"
          },
          "hoverlabel": {
           "align": "left"
          },
          "hovermode": "closest",
          "mapbox": {
           "style": "light"
          },
          "paper_bgcolor": "white",
          "plot_bgcolor": "#E5ECF6",
          "polar": {
           "angularaxis": {
            "gridcolor": "white",
            "linecolor": "white",
            "ticks": ""
           },
           "bgcolor": "#E5ECF6",
           "radialaxis": {
            "gridcolor": "white",
            "linecolor": "white",
            "ticks": ""
           }
          },
          "scene": {
           "xaxis": {
            "backgroundcolor": "#E5ECF6",
            "gridcolor": "white",
            "gridwidth": 2,
            "linecolor": "white",
            "showbackground": true,
            "ticks": "",
            "zerolinecolor": "white"
           },
           "yaxis": {
            "backgroundcolor": "#E5ECF6",
            "gridcolor": "white",
            "gridwidth": 2,
            "linecolor": "white",
            "showbackground": true,
            "ticks": "",
            "zerolinecolor": "white"
           },
           "zaxis": {
            "backgroundcolor": "#E5ECF6",
            "gridcolor": "white",
            "gridwidth": 2,
            "linecolor": "white",
            "showbackground": true,
            "ticks": "",
            "zerolinecolor": "white"
           }
          },
          "shapedefaults": {
           "line": {
            "color": "#2a3f5f"
           }
          },
          "ternary": {
           "aaxis": {
            "gridcolor": "white",
            "linecolor": "white",
            "ticks": ""
           },
           "baxis": {
            "gridcolor": "white",
            "linecolor": "white",
            "ticks": ""
           },
           "bgcolor": "#E5ECF6",
           "caxis": {
            "gridcolor": "white",
            "linecolor": "white",
            "ticks": ""
           }
          },
          "title": {
           "x": 0.05
          },
          "xaxis": {
           "automargin": true,
           "gridcolor": "white",
           "linecolor": "white",
           "ticks": "",
           "title": {
            "standoff": 15
           },
           "zerolinecolor": "white",
           "zerolinewidth": 2
          },
          "yaxis": {
           "automargin": true,
           "gridcolor": "white",
           "linecolor": "white",
           "ticks": "",
           "title": {
            "standoff": 15
           },
           "zerolinecolor": "white",
           "zerolinewidth": 2
          }
         }
        },
        "title": {
         "text": "Bar Chart of Data"
        },
        "xaxis": {
         "title": {
          "text": "Outcome"
         }
        },
        "yaxis": {
         "title": {
          "text": "Count"
         }
        }
       }
      }
     },
     "metadata": {}
    }
   ],
   "source": [
    "binomial.plot_bar()"
   ]
  },
  {
   "source": [
    "The PDF can be computed using the `plot_bar_pdf` function"
   ],
   "cell_type": "markdown",
   "metadata": {}
  },
  {
   "cell_type": "code",
   "execution_count": 4,
   "metadata": {},
   "outputs": [
    {
     "output_type": "display_data",
     "data": {
      "application/vnd.plotly.v1+json": {
       "config": {
        "plotlyServerURL": "https://plot.ly"
       },
       "data": [
        {
         "type": "bar",
         "x": [
          0,
          1,
          2,
          3,
          4,
          5,
          6,
          7,
          8,
          9,
          10,
          11,
          12,
          13,
          14,
          15,
          16,
          17,
          18,
          19,
          20
         ],
         "y": [
          0.5866276769075799,
          0.31709604157166477,
          0.08141655121434635,
          0.013202683980704814,
          0.0015165245112971745,
          0.00013115887665272858,
          0.000008862086260319499,
          4.790316897469999e-7,
          2.103855394159121e-8,
          7.581460879852687e-10,
          2.2539478291453932e-11,
          5.537955354165585e-13,
          1.122558517736267e-14,
          1.867041193740153e-16,
          2.523028640189396e-18,
          2.727598529934482e-20,
          2.3037149746068253e-22,
          1.4650015736768367e-24,
          6.599106187733498e-27,
          1.8774128556852052e-29,
          2.5370443995746015e-32
         ]
        }
       ],
       "layout": {
        "template": {
         "data": {
          "bar": [
           {
            "error_x": {
             "color": "#2a3f5f"
            },
            "error_y": {
             "color": "#2a3f5f"
            },
            "marker": {
             "line": {
              "color": "#E5ECF6",
              "width": 0.5
             }
            },
            "type": "bar"
           }
          ],
          "barpolar": [
           {
            "marker": {
             "line": {
              "color": "#E5ECF6",
              "width": 0.5
             }
            },
            "type": "barpolar"
           }
          ],
          "carpet": [
           {
            "aaxis": {
             "endlinecolor": "#2a3f5f",
             "gridcolor": "white",
             "linecolor": "white",
             "minorgridcolor": "white",
             "startlinecolor": "#2a3f5f"
            },
            "baxis": {
             "endlinecolor": "#2a3f5f",
             "gridcolor": "white",
             "linecolor": "white",
             "minorgridcolor": "white",
             "startlinecolor": "#2a3f5f"
            },
            "type": "carpet"
           }
          ],
          "choropleth": [
           {
            "colorbar": {
             "outlinewidth": 0,
             "ticks": ""
            },
            "type": "choropleth"
           }
          ],
          "contour": [
           {
            "colorbar": {
             "outlinewidth": 0,
             "ticks": ""
            },
            "colorscale": [
             [
              0,
              "#0d0887"
             ],
             [
              0.1111111111111111,
              "#46039f"
             ],
             [
              0.2222222222222222,
              "#7201a8"
             ],
             [
              0.3333333333333333,
              "#9c179e"
             ],
             [
              0.4444444444444444,
              "#bd3786"
             ],
             [
              0.5555555555555556,
              "#d8576b"
             ],
             [
              0.6666666666666666,
              "#ed7953"
             ],
             [
              0.7777777777777778,
              "#fb9f3a"
             ],
             [
              0.8888888888888888,
              "#fdca26"
             ],
             [
              1,
              "#f0f921"
             ]
            ],
            "type": "contour"
           }
          ],
          "contourcarpet": [
           {
            "colorbar": {
             "outlinewidth": 0,
             "ticks": ""
            },
            "type": "contourcarpet"
           }
          ],
          "heatmap": [
           {
            "colorbar": {
             "outlinewidth": 0,
             "ticks": ""
            },
            "colorscale": [
             [
              0,
              "#0d0887"
             ],
             [
              0.1111111111111111,
              "#46039f"
             ],
             [
              0.2222222222222222,
              "#7201a8"
             ],
             [
              0.3333333333333333,
              "#9c179e"
             ],
             [
              0.4444444444444444,
              "#bd3786"
             ],
             [
              0.5555555555555556,
              "#d8576b"
             ],
             [
              0.6666666666666666,
              "#ed7953"
             ],
             [
              0.7777777777777778,
              "#fb9f3a"
             ],
             [
              0.8888888888888888,
              "#fdca26"
             ],
             [
              1,
              "#f0f921"
             ]
            ],
            "type": "heatmap"
           }
          ],
          "heatmapgl": [
           {
            "colorbar": {
             "outlinewidth": 0,
             "ticks": ""
            },
            "colorscale": [
             [
              0,
              "#0d0887"
             ],
             [
              0.1111111111111111,
              "#46039f"
             ],
             [
              0.2222222222222222,
              "#7201a8"
             ],
             [
              0.3333333333333333,
              "#9c179e"
             ],
             [
              0.4444444444444444,
              "#bd3786"
             ],
             [
              0.5555555555555556,
              "#d8576b"
             ],
             [
              0.6666666666666666,
              "#ed7953"
             ],
             [
              0.7777777777777778,
              "#fb9f3a"
             ],
             [
              0.8888888888888888,
              "#fdca26"
             ],
             [
              1,
              "#f0f921"
             ]
            ],
            "type": "heatmapgl"
           }
          ],
          "histogram": [
           {
            "marker": {
             "colorbar": {
              "outlinewidth": 0,
              "ticks": ""
             }
            },
            "type": "histogram"
           }
          ],
          "histogram2d": [
           {
            "colorbar": {
             "outlinewidth": 0,
             "ticks": ""
            },
            "colorscale": [
             [
              0,
              "#0d0887"
             ],
             [
              0.1111111111111111,
              "#46039f"
             ],
             [
              0.2222222222222222,
              "#7201a8"
             ],
             [
              0.3333333333333333,
              "#9c179e"
             ],
             [
              0.4444444444444444,
              "#bd3786"
             ],
             [
              0.5555555555555556,
              "#d8576b"
             ],
             [
              0.6666666666666666,
              "#ed7953"
             ],
             [
              0.7777777777777778,
              "#fb9f3a"
             ],
             [
              0.8888888888888888,
              "#fdca26"
             ],
             [
              1,
              "#f0f921"
             ]
            ],
            "type": "histogram2d"
           }
          ],
          "histogram2dcontour": [
           {
            "colorbar": {
             "outlinewidth": 0,
             "ticks": ""
            },
            "colorscale": [
             [
              0,
              "#0d0887"
             ],
             [
              0.1111111111111111,
              "#46039f"
             ],
             [
              0.2222222222222222,
              "#7201a8"
             ],
             [
              0.3333333333333333,
              "#9c179e"
             ],
             [
              0.4444444444444444,
              "#bd3786"
             ],
             [
              0.5555555555555556,
              "#d8576b"
             ],
             [
              0.6666666666666666,
              "#ed7953"
             ],
             [
              0.7777777777777778,
              "#fb9f3a"
             ],
             [
              0.8888888888888888,
              "#fdca26"
             ],
             [
              1,
              "#f0f921"
             ]
            ],
            "type": "histogram2dcontour"
           }
          ],
          "mesh3d": [
           {
            "colorbar": {
             "outlinewidth": 0,
             "ticks": ""
            },
            "type": "mesh3d"
           }
          ],
          "parcoords": [
           {
            "line": {
             "colorbar": {
              "outlinewidth": 0,
              "ticks": ""
             }
            },
            "type": "parcoords"
           }
          ],
          "pie": [
           {
            "automargin": true,
            "type": "pie"
           }
          ],
          "scatter": [
           {
            "marker": {
             "colorbar": {
              "outlinewidth": 0,
              "ticks": ""
             }
            },
            "type": "scatter"
           }
          ],
          "scatter3d": [
           {
            "line": {
             "colorbar": {
              "outlinewidth": 0,
              "ticks": ""
             }
            },
            "marker": {
             "colorbar": {
              "outlinewidth": 0,
              "ticks": ""
             }
            },
            "type": "scatter3d"
           }
          ],
          "scattercarpet": [
           {
            "marker": {
             "colorbar": {
              "outlinewidth": 0,
              "ticks": ""
             }
            },
            "type": "scattercarpet"
           }
          ],
          "scattergeo": [
           {
            "marker": {
             "colorbar": {
              "outlinewidth": 0,
              "ticks": ""
             }
            },
            "type": "scattergeo"
           }
          ],
          "scattergl": [
           {
            "marker": {
             "colorbar": {
              "outlinewidth": 0,
              "ticks": ""
             }
            },
            "type": "scattergl"
           }
          ],
          "scattermapbox": [
           {
            "marker": {
             "colorbar": {
              "outlinewidth": 0,
              "ticks": ""
             }
            },
            "type": "scattermapbox"
           }
          ],
          "scatterpolar": [
           {
            "marker": {
             "colorbar": {
              "outlinewidth": 0,
              "ticks": ""
             }
            },
            "type": "scatterpolar"
           }
          ],
          "scatterpolargl": [
           {
            "marker": {
             "colorbar": {
              "outlinewidth": 0,
              "ticks": ""
             }
            },
            "type": "scatterpolargl"
           }
          ],
          "scatterternary": [
           {
            "marker": {
             "colorbar": {
              "outlinewidth": 0,
              "ticks": ""
             }
            },
            "type": "scatterternary"
           }
          ],
          "surface": [
           {
            "colorbar": {
             "outlinewidth": 0,
             "ticks": ""
            },
            "colorscale": [
             [
              0,
              "#0d0887"
             ],
             [
              0.1111111111111111,
              "#46039f"
             ],
             [
              0.2222222222222222,
              "#7201a8"
             ],
             [
              0.3333333333333333,
              "#9c179e"
             ],
             [
              0.4444444444444444,
              "#bd3786"
             ],
             [
              0.5555555555555556,
              "#d8576b"
             ],
             [
              0.6666666666666666,
              "#ed7953"
             ],
             [
              0.7777777777777778,
              "#fb9f3a"
             ],
             [
              0.8888888888888888,
              "#fdca26"
             ],
             [
              1,
              "#f0f921"
             ]
            ],
            "type": "surface"
           }
          ],
          "table": [
           {
            "cells": {
             "fill": {
              "color": "#EBF0F8"
             },
             "line": {
              "color": "white"
             }
            },
            "header": {
             "fill": {
              "color": "#C8D4E3"
             },
             "line": {
              "color": "white"
             }
            },
            "type": "table"
           }
          ]
         },
         "layout": {
          "annotationdefaults": {
           "arrowcolor": "#2a3f5f",
           "arrowhead": 0,
           "arrowwidth": 1
          },
          "autotypenumbers": "strict",
          "coloraxis": {
           "colorbar": {
            "outlinewidth": 0,
            "ticks": ""
           }
          },
          "colorscale": {
           "diverging": [
            [
             0,
             "#8e0152"
            ],
            [
             0.1,
             "#c51b7d"
            ],
            [
             0.2,
             "#de77ae"
            ],
            [
             0.3,
             "#f1b6da"
            ],
            [
             0.4,
             "#fde0ef"
            ],
            [
             0.5,
             "#f7f7f7"
            ],
            [
             0.6,
             "#e6f5d0"
            ],
            [
             0.7,
             "#b8e186"
            ],
            [
             0.8,
             "#7fbc41"
            ],
            [
             0.9,
             "#4d9221"
            ],
            [
             1,
             "#276419"
            ]
           ],
           "sequential": [
            [
             0,
             "#0d0887"
            ],
            [
             0.1111111111111111,
             "#46039f"
            ],
            [
             0.2222222222222222,
             "#7201a8"
            ],
            [
             0.3333333333333333,
             "#9c179e"
            ],
            [
             0.4444444444444444,
             "#bd3786"
            ],
            [
             0.5555555555555556,
             "#d8576b"
            ],
            [
             0.6666666666666666,
             "#ed7953"
            ],
            [
             0.7777777777777778,
             "#fb9f3a"
            ],
            [
             0.8888888888888888,
             "#fdca26"
            ],
            [
             1,
             "#f0f921"
            ]
           ],
           "sequentialminus": [
            [
             0,
             "#0d0887"
            ],
            [
             0.1111111111111111,
             "#46039f"
            ],
            [
             0.2222222222222222,
             "#7201a8"
            ],
            [
             0.3333333333333333,
             "#9c179e"
            ],
            [
             0.4444444444444444,
             "#bd3786"
            ],
            [
             0.5555555555555556,
             "#d8576b"
            ],
            [
             0.6666666666666666,
             "#ed7953"
            ],
            [
             0.7777777777777778,
             "#fb9f3a"
            ],
            [
             0.8888888888888888,
             "#fdca26"
            ],
            [
             1,
             "#f0f921"
            ]
           ]
          },
          "colorway": [
           "#636efa",
           "#EF553B",
           "#00cc96",
           "#ab63fa",
           "#FFA15A",
           "#19d3f3",
           "#FF6692",
           "#B6E880",
           "#FF97FF",
           "#FECB52"
          ],
          "font": {
           "color": "#2a3f5f"
          },
          "geo": {
           "bgcolor": "white",
           "lakecolor": "white",
           "landcolor": "#E5ECF6",
           "showlakes": true,
           "showland": true,
           "subunitcolor": "white"
          },
          "hoverlabel": {
           "align": "left"
          },
          "hovermode": "closest",
          "mapbox": {
           "style": "light"
          },
          "paper_bgcolor": "white",
          "plot_bgcolor": "#E5ECF6",
          "polar": {
           "angularaxis": {
            "gridcolor": "white",
            "linecolor": "white",
            "ticks": ""
           },
           "bgcolor": "#E5ECF6",
           "radialaxis": {
            "gridcolor": "white",
            "linecolor": "white",
            "ticks": ""
           }
          },
          "scene": {
           "xaxis": {
            "backgroundcolor": "#E5ECF6",
            "gridcolor": "white",
            "gridwidth": 2,
            "linecolor": "white",
            "showbackground": true,
            "ticks": "",
            "zerolinecolor": "white"
           },
           "yaxis": {
            "backgroundcolor": "#E5ECF6",
            "gridcolor": "white",
            "gridwidth": 2,
            "linecolor": "white",
            "showbackground": true,
            "ticks": "",
            "zerolinecolor": "white"
           },
           "zaxis": {
            "backgroundcolor": "#E5ECF6",
            "gridcolor": "white",
            "gridwidth": 2,
            "linecolor": "white",
            "showbackground": true,
            "ticks": "",
            "zerolinecolor": "white"
           }
          },
          "shapedefaults": {
           "line": {
            "color": "#2a3f5f"
           }
          },
          "ternary": {
           "aaxis": {
            "gridcolor": "white",
            "linecolor": "white",
            "ticks": ""
           },
           "baxis": {
            "gridcolor": "white",
            "linecolor": "white",
            "ticks": ""
           },
           "bgcolor": "#E5ECF6",
           "caxis": {
            "gridcolor": "white",
            "linecolor": "white",
            "ticks": ""
           }
          },
          "title": {
           "x": 0.05
          },
          "xaxis": {
           "automargin": true,
           "gridcolor": "white",
           "linecolor": "white",
           "ticks": "",
           "title": {
            "standoff": 15
           },
           "zerolinecolor": "white",
           "zerolinewidth": 2
          },
          "yaxis": {
           "automargin": true,
           "gridcolor": "white",
           "linecolor": "white",
           "ticks": "",
           "title": {
            "standoff": 15
           },
           "zerolinecolor": "white",
           "zerolinewidth": 2
          }
         }
        },
        "title": {
         "text": "PDF of Outcomes"
        },
        "xaxis": {
         "title": {
          "text": "Outcome"
         }
        },
        "yaxis": {
         "title": {
          "text": "Probability"
         }
        }
       }
      }
     },
     "metadata": {}
    }
   ],
   "source": [
    "x, p = binomial.plot_bar_pdf()"
   ]
  },
  {
   "cell_type": "code",
   "execution_count": 5,
   "metadata": {},
   "outputs": [
    {
     "output_type": "stream",
     "name": "stdout",
     "text": [
      "Which means that the probability of loosing in all 20 spins is 0.587, winning at least 1 time is 0.317, and winning 3 times is 0.0132\n"
     ]
    }
   ],
   "source": [
    "print('Which means that the probability of loosing in all 20 spins is {:.3}, winning at least 1 time is {:.3}, and winning 3 times is {:.3}'.format(p[0], p[1], p[3]))"
   ]
  },
  {
   "source": [
    "Now, imagine we do $n=1000$ spins. This is enough to assume a normal or **Gaussian Dristribution** of the outcomes. The Gaussian distribution is a continuous function which approximates the exact binomial distribution of events. The mean of a Gaussian distrinution is \n",
    "$$\n",
    "\\mu=\\frac{1}{n}\\sum_{i=1}^{n}x_{i}.\n",
    "$$\n",
    "The standard deviation varies if only a sample or the entire population is used. For the entire population, the standard deviation is\n",
    "$$\n",
    "\\sigma=\\sqrt{\\frac{1}{n}\\sum_{i=1}^{n}(x_{i}-\\mu)^2},\n",
    "$$\n",
    "while for a sample subset is \n",
    "$$\n",
    "\\sigma=\\sqrt{\\frac{1}{n-1}\\sum_{i=1}^{n}(x_{i}-\\mu)^2}.\n",
    "$$\n",
    "The PDF of a Gaussian distributed is computed as\n",
    "$$\n",
    "P=\\frac{1}{\\sigma\\sqrt{2\\pi}}e^{-\\frac{1}{2}\\left(\\frac{x-\\mu}{\\sigma}\\right)^2}\n",
    "$$"
   ],
   "cell_type": "markdown",
   "metadata": {}
  },
  {
   "cell_type": "code",
   "execution_count": 6,
   "metadata": {},
   "outputs": [],
   "source": [
    "# First I generated 1000 random trials of the roulette number 0 is 37 and 00 is 38. The data is saved into a .txt file.\n",
    "output_file = open('test.txt', 'w')\n",
    "for i in range(1000):\n",
    "    line = str(random.randint(1, 38))\n",
    "    output_file.write(str(line) + '\\n')\n",
    "\n",
    "output_file.close()"
   ]
  },
  {
   "source": [
    "Create the Gaussian object"
   ],
   "cell_type": "markdown",
   "metadata": {}
  },
  {
   "cell_type": "code",
   "execution_count": 7,
   "metadata": {},
   "outputs": [],
   "source": [
    "gaussian = Gaussian()"
   ]
  },
  {
   "source": [
    "The `gaussian` object contains a function `read_data_file` that allows reading a tect file containing the events. Each row has to be an independent event. "
   ],
   "cell_type": "markdown",
   "metadata": {}
  },
  {
   "cell_type": "code",
   "execution_count": 8,
   "metadata": {},
   "outputs": [],
   "source": [
    "gaussian.read_data_file('test.txt')"
   ]
  },
  {
   "source": [
    "\n",
    "Now, let's see the frequency of the outcomes using the `plot_histogram()` function."
   ],
   "cell_type": "markdown",
   "metadata": {}
  },
  {
   "cell_type": "code",
   "execution_count": 9,
   "metadata": {},
   "outputs": [
    {
     "output_type": "display_data",
     "data": {
      "application/vnd.plotly.v1+json": {
       "config": {
        "plotlyServerURL": "https://plot.ly"
       },
       "data": [
        {
         "type": "histogram",
         "x": [
          1,
          38,
          4,
          23,
          15,
          23,
          26,
          8,
          28,
          11,
          33,
          1,
          17,
          33,
          20,
          14,
          15,
          36,
          3,
          8,
          35,
          7,
          28,
          36,
          28,
          34,
          30,
          3,
          31,
          12,
          38,
          37,
          29,
          9,
          1,
          26,
          16,
          13,
          11,
          35,
          38,
          7,
          7,
          8,
          10,
          22,
          28,
          29,
          21,
          14,
          5,
          7,
          36,
          16,
          5,
          7,
          30,
          9,
          7,
          20,
          5,
          23,
          33,
          17,
          19,
          28,
          30,
          34,
          12,
          19,
          12,
          10,
          25,
          15,
          20,
          12,
          26,
          5,
          35,
          35,
          22,
          14,
          20,
          36,
          35,
          26,
          2,
          37,
          12,
          21,
          31,
          9,
          30,
          14,
          24,
          28,
          34,
          36,
          14,
          24,
          18,
          32,
          2,
          21,
          12,
          24,
          29,
          12,
          16,
          28,
          4,
          24,
          9,
          32,
          37,
          29,
          19,
          15,
          22,
          2,
          18,
          22,
          24,
          4,
          6,
          28,
          35,
          22,
          13,
          1,
          36,
          33,
          7,
          1,
          1,
          8,
          11,
          38,
          19,
          13,
          12,
          25,
          2,
          21,
          18,
          10,
          25,
          18,
          31,
          2,
          13,
          8,
          6,
          14,
          9,
          16,
          20,
          3,
          24,
          30,
          17,
          22,
          24,
          5,
          34,
          35,
          21,
          37,
          1,
          33,
          13,
          10,
          11,
          18,
          13,
          2,
          10,
          15,
          11,
          36,
          9,
          2,
          11,
          26,
          11,
          12,
          35,
          34,
          2,
          3,
          24,
          11,
          21,
          26,
          29,
          19,
          1,
          25,
          12,
          13,
          20,
          12,
          15,
          12,
          13,
          26,
          6,
          22,
          8,
          26,
          16,
          27,
          35,
          3,
          10,
          4,
          21,
          29,
          22,
          17,
          36,
          33,
          11,
          13,
          20,
          27,
          35,
          19,
          35,
          35,
          33,
          6,
          22,
          18,
          32,
          29,
          4,
          8,
          37,
          28,
          26,
          36,
          36,
          35,
          8,
          18,
          20,
          14,
          37,
          29,
          25,
          26,
          22,
          37,
          23,
          18,
          13,
          16,
          1,
          20,
          11,
          22,
          9,
          35,
          29,
          16,
          9,
          7,
          7,
          34,
          8,
          5,
          17,
          1,
          7,
          2,
          12,
          37,
          35,
          6,
          21,
          13,
          29,
          17,
          1,
          18,
          2,
          15,
          2,
          24,
          6,
          23,
          10,
          35,
          28,
          23,
          1,
          37,
          27,
          29,
          29,
          32,
          10,
          25,
          35,
          31,
          25,
          34,
          15,
          30,
          29,
          5,
          2,
          24,
          20,
          8,
          25,
          36,
          5,
          6,
          9,
          20,
          28,
          4,
          20,
          4,
          18,
          1,
          3,
          16,
          2,
          30,
          18,
          2,
          14,
          19,
          32,
          6,
          32,
          34,
          15,
          11,
          21,
          20,
          35,
          35,
          18,
          31,
          25,
          26,
          7,
          21,
          8,
          10,
          15,
          4,
          15,
          25,
          20,
          3,
          6,
          26,
          5,
          10,
          28,
          12,
          14,
          27,
          27,
          36,
          10,
          4,
          9,
          11,
          22,
          37,
          3,
          38,
          26,
          21,
          3,
          16,
          7,
          30,
          33,
          22,
          7,
          10,
          1,
          31,
          6,
          10,
          38,
          16,
          27,
          25,
          2,
          23,
          27,
          25,
          6,
          7,
          19,
          13,
          4,
          19,
          8,
          12,
          33,
          10,
          14,
          11,
          34,
          2,
          25,
          8,
          27,
          14,
          19,
          17,
          25,
          31,
          21,
          34,
          11,
          5,
          15,
          3,
          38,
          37,
          36,
          33,
          38,
          30,
          6,
          5,
          15,
          27,
          15,
          26,
          38,
          17,
          3,
          8,
          9,
          28,
          36,
          26,
          19,
          14,
          2,
          33,
          34,
          17,
          5,
          10,
          18,
          19,
          4,
          2,
          19,
          26,
          7,
          1,
          7,
          32,
          23,
          36,
          28,
          30,
          35,
          29,
          8,
          31,
          34,
          18,
          8,
          21,
          36,
          18,
          21,
          18,
          31,
          19,
          25,
          29,
          21,
          12,
          8,
          13,
          21,
          7,
          1,
          27,
          24,
          29,
          10,
          37,
          9,
          6,
          15,
          18,
          8,
          14,
          30,
          38,
          6,
          11,
          10,
          1,
          7,
          17,
          10,
          1,
          14,
          16,
          20,
          16,
          25,
          16,
          30,
          21,
          36,
          17,
          35,
          17,
          14,
          15,
          35,
          31,
          31,
          28,
          3,
          13,
          27,
          27,
          10,
          9,
          30,
          30,
          33,
          3,
          36,
          27,
          23,
          33,
          34,
          2,
          38,
          34,
          31,
          3,
          25,
          13,
          1,
          16,
          26,
          24,
          28,
          31,
          26,
          19,
          16,
          4,
          27,
          6,
          22,
          38,
          36,
          10,
          24,
          17,
          37,
          32,
          30,
          21,
          11,
          1,
          32,
          33,
          35,
          28,
          33,
          28,
          34,
          29,
          21,
          11,
          13,
          26,
          25,
          33,
          24,
          15,
          19,
          11,
          26,
          2,
          13,
          7,
          20,
          14,
          18,
          17,
          35,
          10,
          11,
          16,
          8,
          8,
          33,
          21,
          35,
          9,
          23,
          33,
          17,
          20,
          25,
          8,
          37,
          12,
          28,
          37,
          19,
          28,
          27,
          9,
          7,
          17,
          12,
          8,
          28,
          6,
          6,
          4,
          3,
          8,
          37,
          28,
          30,
          36,
          36,
          13,
          26,
          2,
          18,
          14,
          11,
          7,
          16,
          2,
          25,
          3,
          14,
          25,
          9,
          17,
          32,
          6,
          21,
          2,
          10,
          15,
          10,
          16,
          7,
          17,
          37,
          1,
          14,
          1,
          32,
          28,
          18,
          1,
          31,
          27,
          8,
          3,
          33,
          12,
          28,
          23,
          37,
          20,
          36,
          21,
          38,
          6,
          1,
          15,
          5,
          33,
          8,
          2,
          21,
          38,
          25,
          23,
          8,
          18,
          21,
          2,
          16,
          22,
          38,
          11,
          8,
          29,
          34,
          3,
          34,
          26,
          17,
          4,
          26,
          22,
          10,
          32,
          11,
          8,
          2,
          35,
          33,
          12,
          18,
          38,
          9,
          1,
          26,
          22,
          8,
          28,
          16,
          34,
          1,
          20,
          11,
          8,
          9,
          25,
          11,
          30,
          18,
          10,
          14,
          30,
          2,
          26,
          28,
          33,
          18,
          11,
          4,
          22,
          38,
          29,
          25,
          33,
          7,
          29,
          4,
          31,
          15,
          37,
          1,
          27,
          32,
          5,
          10,
          31,
          33,
          12,
          17,
          21,
          28,
          37,
          19,
          38,
          23,
          17,
          6,
          22,
          17,
          14,
          26,
          3,
          11,
          25,
          1,
          28,
          9,
          25,
          27,
          15,
          26,
          8,
          25,
          30,
          17,
          37,
          9,
          37,
          25,
          28,
          8,
          38,
          5,
          36,
          38,
          23,
          23,
          33,
          7,
          6,
          3,
          27,
          38,
          2,
          22,
          36,
          14,
          38,
          7,
          25,
          21,
          34,
          23,
          7,
          9,
          34,
          28,
          35,
          30,
          23,
          8,
          36,
          8,
          19,
          29,
          36,
          18,
          34,
          10,
          21,
          3,
          19,
          8,
          36,
          30,
          38,
          32,
          33,
          5,
          38,
          26,
          3,
          8,
          33,
          34,
          30,
          2,
          3,
          33,
          15,
          8,
          12,
          28,
          38,
          27,
          12,
          11,
          33,
          37,
          11,
          27,
          4,
          8,
          26,
          25,
          5,
          7,
          14,
          7,
          6,
          35,
          29,
          15,
          11,
          22,
          27,
          29,
          36,
          28,
          29,
          25,
          21,
          1,
          4,
          36,
          38,
          32,
          32,
          23,
          16,
          1,
          32,
          15,
          25,
          19,
          26,
          28,
          6,
          9,
          32,
          3,
          17,
          5,
          30,
          36,
          34,
          13,
          34,
          7,
          34,
          19,
          3,
          7,
          28,
          13,
          4,
          27,
          8,
          27,
          6,
          25,
          2,
          10,
          33,
          6,
          17,
          19,
          5,
          5,
          9,
          24,
          3,
          2,
          13,
          28,
          19,
          25,
          6,
          8,
          37,
          1,
          10,
          20,
          13,
          21,
          33,
          22,
          11,
          26,
          5,
          22,
          8,
          20,
          14,
          24,
          37,
          11,
          3,
          26,
          33,
          15,
          38,
          4,
          12,
          15,
          11,
          30,
          22,
          30,
          15,
          2,
          32,
          8,
          2,
          7,
          6,
          13,
          30,
          38,
          7,
          22,
          38,
          27,
          8
         ],
         "xbins": {
          "end": 39,
          "size": 1,
          "start": 1
         }
        }
       ],
       "layout": {
        "template": {
         "data": {
          "bar": [
           {
            "error_x": {
             "color": "#2a3f5f"
            },
            "error_y": {
             "color": "#2a3f5f"
            },
            "marker": {
             "line": {
              "color": "#E5ECF6",
              "width": 0.5
             }
            },
            "type": "bar"
           }
          ],
          "barpolar": [
           {
            "marker": {
             "line": {
              "color": "#E5ECF6",
              "width": 0.5
             }
            },
            "type": "barpolar"
           }
          ],
          "carpet": [
           {
            "aaxis": {
             "endlinecolor": "#2a3f5f",
             "gridcolor": "white",
             "linecolor": "white",
             "minorgridcolor": "white",
             "startlinecolor": "#2a3f5f"
            },
            "baxis": {
             "endlinecolor": "#2a3f5f",
             "gridcolor": "white",
             "linecolor": "white",
             "minorgridcolor": "white",
             "startlinecolor": "#2a3f5f"
            },
            "type": "carpet"
           }
          ],
          "choropleth": [
           {
            "colorbar": {
             "outlinewidth": 0,
             "ticks": ""
            },
            "type": "choropleth"
           }
          ],
          "contour": [
           {
            "colorbar": {
             "outlinewidth": 0,
             "ticks": ""
            },
            "colorscale": [
             [
              0,
              "#0d0887"
             ],
             [
              0.1111111111111111,
              "#46039f"
             ],
             [
              0.2222222222222222,
              "#7201a8"
             ],
             [
              0.3333333333333333,
              "#9c179e"
             ],
             [
              0.4444444444444444,
              "#bd3786"
             ],
             [
              0.5555555555555556,
              "#d8576b"
             ],
             [
              0.6666666666666666,
              "#ed7953"
             ],
             [
              0.7777777777777778,
              "#fb9f3a"
             ],
             [
              0.8888888888888888,
              "#fdca26"
             ],
             [
              1,
              "#f0f921"
             ]
            ],
            "type": "contour"
           }
          ],
          "contourcarpet": [
           {
            "colorbar": {
             "outlinewidth": 0,
             "ticks": ""
            },
            "type": "contourcarpet"
           }
          ],
          "heatmap": [
           {
            "colorbar": {
             "outlinewidth": 0,
             "ticks": ""
            },
            "colorscale": [
             [
              0,
              "#0d0887"
             ],
             [
              0.1111111111111111,
              "#46039f"
             ],
             [
              0.2222222222222222,
              "#7201a8"
             ],
             [
              0.3333333333333333,
              "#9c179e"
             ],
             [
              0.4444444444444444,
              "#bd3786"
             ],
             [
              0.5555555555555556,
              "#d8576b"
             ],
             [
              0.6666666666666666,
              "#ed7953"
             ],
             [
              0.7777777777777778,
              "#fb9f3a"
             ],
             [
              0.8888888888888888,
              "#fdca26"
             ],
             [
              1,
              "#f0f921"
             ]
            ],
            "type": "heatmap"
           }
          ],
          "heatmapgl": [
           {
            "colorbar": {
             "outlinewidth": 0,
             "ticks": ""
            },
            "colorscale": [
             [
              0,
              "#0d0887"
             ],
             [
              0.1111111111111111,
              "#46039f"
             ],
             [
              0.2222222222222222,
              "#7201a8"
             ],
             [
              0.3333333333333333,
              "#9c179e"
             ],
             [
              0.4444444444444444,
              "#bd3786"
             ],
             [
              0.5555555555555556,
              "#d8576b"
             ],
             [
              0.6666666666666666,
              "#ed7953"
             ],
             [
              0.7777777777777778,
              "#fb9f3a"
             ],
             [
              0.8888888888888888,
              "#fdca26"
             ],
             [
              1,
              "#f0f921"
             ]
            ],
            "type": "heatmapgl"
           }
          ],
          "histogram": [
           {
            "marker": {
             "colorbar": {
              "outlinewidth": 0,
              "ticks": ""
             }
            },
            "type": "histogram"
           }
          ],
          "histogram2d": [
           {
            "colorbar": {
             "outlinewidth": 0,
             "ticks": ""
            },
            "colorscale": [
             [
              0,
              "#0d0887"
             ],
             [
              0.1111111111111111,
              "#46039f"
             ],
             [
              0.2222222222222222,
              "#7201a8"
             ],
             [
              0.3333333333333333,
              "#9c179e"
             ],
             [
              0.4444444444444444,
              "#bd3786"
             ],
             [
              0.5555555555555556,
              "#d8576b"
             ],
             [
              0.6666666666666666,
              "#ed7953"
             ],
             [
              0.7777777777777778,
              "#fb9f3a"
             ],
             [
              0.8888888888888888,
              "#fdca26"
             ],
             [
              1,
              "#f0f921"
             ]
            ],
            "type": "histogram2d"
           }
          ],
          "histogram2dcontour": [
           {
            "colorbar": {
             "outlinewidth": 0,
             "ticks": ""
            },
            "colorscale": [
             [
              0,
              "#0d0887"
             ],
             [
              0.1111111111111111,
              "#46039f"
             ],
             [
              0.2222222222222222,
              "#7201a8"
             ],
             [
              0.3333333333333333,
              "#9c179e"
             ],
             [
              0.4444444444444444,
              "#bd3786"
             ],
             [
              0.5555555555555556,
              "#d8576b"
             ],
             [
              0.6666666666666666,
              "#ed7953"
             ],
             [
              0.7777777777777778,
              "#fb9f3a"
             ],
             [
              0.8888888888888888,
              "#fdca26"
             ],
             [
              1,
              "#f0f921"
             ]
            ],
            "type": "histogram2dcontour"
           }
          ],
          "mesh3d": [
           {
            "colorbar": {
             "outlinewidth": 0,
             "ticks": ""
            },
            "type": "mesh3d"
           }
          ],
          "parcoords": [
           {
            "line": {
             "colorbar": {
              "outlinewidth": 0,
              "ticks": ""
             }
            },
            "type": "parcoords"
           }
          ],
          "pie": [
           {
            "automargin": true,
            "type": "pie"
           }
          ],
          "scatter": [
           {
            "marker": {
             "colorbar": {
              "outlinewidth": 0,
              "ticks": ""
             }
            },
            "type": "scatter"
           }
          ],
          "scatter3d": [
           {
            "line": {
             "colorbar": {
              "outlinewidth": 0,
              "ticks": ""
             }
            },
            "marker": {
             "colorbar": {
              "outlinewidth": 0,
              "ticks": ""
             }
            },
            "type": "scatter3d"
           }
          ],
          "scattercarpet": [
           {
            "marker": {
             "colorbar": {
              "outlinewidth": 0,
              "ticks": ""
             }
            },
            "type": "scattercarpet"
           }
          ],
          "scattergeo": [
           {
            "marker": {
             "colorbar": {
              "outlinewidth": 0,
              "ticks": ""
             }
            },
            "type": "scattergeo"
           }
          ],
          "scattergl": [
           {
            "marker": {
             "colorbar": {
              "outlinewidth": 0,
              "ticks": ""
             }
            },
            "type": "scattergl"
           }
          ],
          "scattermapbox": [
           {
            "marker": {
             "colorbar": {
              "outlinewidth": 0,
              "ticks": ""
             }
            },
            "type": "scattermapbox"
           }
          ],
          "scatterpolar": [
           {
            "marker": {
             "colorbar": {
              "outlinewidth": 0,
              "ticks": ""
             }
            },
            "type": "scatterpolar"
           }
          ],
          "scatterpolargl": [
           {
            "marker": {
             "colorbar": {
              "outlinewidth": 0,
              "ticks": ""
             }
            },
            "type": "scatterpolargl"
           }
          ],
          "scatterternary": [
           {
            "marker": {
             "colorbar": {
              "outlinewidth": 0,
              "ticks": ""
             }
            },
            "type": "scatterternary"
           }
          ],
          "surface": [
           {
            "colorbar": {
             "outlinewidth": 0,
             "ticks": ""
            },
            "colorscale": [
             [
              0,
              "#0d0887"
             ],
             [
              0.1111111111111111,
              "#46039f"
             ],
             [
              0.2222222222222222,
              "#7201a8"
             ],
             [
              0.3333333333333333,
              "#9c179e"
             ],
             [
              0.4444444444444444,
              "#bd3786"
             ],
             [
              0.5555555555555556,
              "#d8576b"
             ],
             [
              0.6666666666666666,
              "#ed7953"
             ],
             [
              0.7777777777777778,
              "#fb9f3a"
             ],
             [
              0.8888888888888888,
              "#fdca26"
             ],
             [
              1,
              "#f0f921"
             ]
            ],
            "type": "surface"
           }
          ],
          "table": [
           {
            "cells": {
             "fill": {
              "color": "#EBF0F8"
             },
             "line": {
              "color": "white"
             }
            },
            "header": {
             "fill": {
              "color": "#C8D4E3"
             },
             "line": {
              "color": "white"
             }
            },
            "type": "table"
           }
          ]
         },
         "layout": {
          "annotationdefaults": {
           "arrowcolor": "#2a3f5f",
           "arrowhead": 0,
           "arrowwidth": 1
          },
          "autotypenumbers": "strict",
          "coloraxis": {
           "colorbar": {
            "outlinewidth": 0,
            "ticks": ""
           }
          },
          "colorscale": {
           "diverging": [
            [
             0,
             "#8e0152"
            ],
            [
             0.1,
             "#c51b7d"
            ],
            [
             0.2,
             "#de77ae"
            ],
            [
             0.3,
             "#f1b6da"
            ],
            [
             0.4,
             "#fde0ef"
            ],
            [
             0.5,
             "#f7f7f7"
            ],
            [
             0.6,
             "#e6f5d0"
            ],
            [
             0.7,
             "#b8e186"
            ],
            [
             0.8,
             "#7fbc41"
            ],
            [
             0.9,
             "#4d9221"
            ],
            [
             1,
             "#276419"
            ]
           ],
           "sequential": [
            [
             0,
             "#0d0887"
            ],
            [
             0.1111111111111111,
             "#46039f"
            ],
            [
             0.2222222222222222,
             "#7201a8"
            ],
            [
             0.3333333333333333,
             "#9c179e"
            ],
            [
             0.4444444444444444,
             "#bd3786"
            ],
            [
             0.5555555555555556,
             "#d8576b"
            ],
            [
             0.6666666666666666,
             "#ed7953"
            ],
            [
             0.7777777777777778,
             "#fb9f3a"
            ],
            [
             0.8888888888888888,
             "#fdca26"
            ],
            [
             1,
             "#f0f921"
            ]
           ],
           "sequentialminus": [
            [
             0,
             "#0d0887"
            ],
            [
             0.1111111111111111,
             "#46039f"
            ],
            [
             0.2222222222222222,
             "#7201a8"
            ],
            [
             0.3333333333333333,
             "#9c179e"
            ],
            [
             0.4444444444444444,
             "#bd3786"
            ],
            [
             0.5555555555555556,
             "#d8576b"
            ],
            [
             0.6666666666666666,
             "#ed7953"
            ],
            [
             0.7777777777777778,
             "#fb9f3a"
            ],
            [
             0.8888888888888888,
             "#fdca26"
            ],
            [
             1,
             "#f0f921"
            ]
           ]
          },
          "colorway": [
           "#636efa",
           "#EF553B",
           "#00cc96",
           "#ab63fa",
           "#FFA15A",
           "#19d3f3",
           "#FF6692",
           "#B6E880",
           "#FF97FF",
           "#FECB52"
          ],
          "font": {
           "color": "#2a3f5f"
          },
          "geo": {
           "bgcolor": "white",
           "lakecolor": "white",
           "landcolor": "#E5ECF6",
           "showlakes": true,
           "showland": true,
           "subunitcolor": "white"
          },
          "hoverlabel": {
           "align": "left"
          },
          "hovermode": "closest",
          "mapbox": {
           "style": "light"
          },
          "paper_bgcolor": "white",
          "plot_bgcolor": "#E5ECF6",
          "polar": {
           "angularaxis": {
            "gridcolor": "white",
            "linecolor": "white",
            "ticks": ""
           },
           "bgcolor": "#E5ECF6",
           "radialaxis": {
            "gridcolor": "white",
            "linecolor": "white",
            "ticks": ""
           }
          },
          "scene": {
           "xaxis": {
            "backgroundcolor": "#E5ECF6",
            "gridcolor": "white",
            "gridwidth": 2,
            "linecolor": "white",
            "showbackground": true,
            "ticks": "",
            "zerolinecolor": "white"
           },
           "yaxis": {
            "backgroundcolor": "#E5ECF6",
            "gridcolor": "white",
            "gridwidth": 2,
            "linecolor": "white",
            "showbackground": true,
            "ticks": "",
            "zerolinecolor": "white"
           },
           "zaxis": {
            "backgroundcolor": "#E5ECF6",
            "gridcolor": "white",
            "gridwidth": 2,
            "linecolor": "white",
            "showbackground": true,
            "ticks": "",
            "zerolinecolor": "white"
           }
          },
          "shapedefaults": {
           "line": {
            "color": "#2a3f5f"
           }
          },
          "ternary": {
           "aaxis": {
            "gridcolor": "white",
            "linecolor": "white",
            "ticks": ""
           },
           "baxis": {
            "gridcolor": "white",
            "linecolor": "white",
            "ticks": ""
           },
           "bgcolor": "#E5ECF6",
           "caxis": {
            "gridcolor": "white",
            "linecolor": "white",
            "ticks": ""
           }
          },
          "title": {
           "x": 0.05
          },
          "xaxis": {
           "automargin": true,
           "gridcolor": "white",
           "linecolor": "white",
           "ticks": "",
           "title": {
            "standoff": 15
           },
           "zerolinecolor": "white",
           "zerolinewidth": 2
          },
          "yaxis": {
           "automargin": true,
           "gridcolor": "white",
           "linecolor": "white",
           "ticks": "",
           "title": {
            "standoff": 15
           },
           "zerolinecolor": "white",
           "zerolinewidth": 2
          }
         }
        },
        "title": {
         "text": "Histogram of Data"
        },
        "xaxis": {
         "title": {
          "text": "Data"
         }
        },
        "yaxis": {
         "title": {
          "text": "Count"
         }
        }
       }
      }
     },
     "metadata": {}
    }
   ],
   "source": [
    "gaussian.plot_histogram()"
   ]
  },
  {
   "source": [
    "The PDF and normalized histogram is computed using the `plot_histogram_pdf()` function"
   ],
   "cell_type": "markdown",
   "metadata": {}
  },
  {
   "cell_type": "code",
   "execution_count": 10,
   "metadata": {},
   "outputs": [
    {
     "output_type": "display_data",
     "data": {
      "application/vnd.plotly.v1+json": {
       "config": {
        "plotlyServerURL": "https://plot.ly"
       },
       "data": [
        {
         "histnorm": "probability density",
         "name": "Normed histogram",
         "type": "histogram",
         "x": [
          1,
          38,
          4,
          23,
          15,
          23,
          26,
          8,
          28,
          11,
          33,
          1,
          17,
          33,
          20,
          14,
          15,
          36,
          3,
          8,
          35,
          7,
          28,
          36,
          28,
          34,
          30,
          3,
          31,
          12,
          38,
          37,
          29,
          9,
          1,
          26,
          16,
          13,
          11,
          35,
          38,
          7,
          7,
          8,
          10,
          22,
          28,
          29,
          21,
          14,
          5,
          7,
          36,
          16,
          5,
          7,
          30,
          9,
          7,
          20,
          5,
          23,
          33,
          17,
          19,
          28,
          30,
          34,
          12,
          19,
          12,
          10,
          25,
          15,
          20,
          12,
          26,
          5,
          35,
          35,
          22,
          14,
          20,
          36,
          35,
          26,
          2,
          37,
          12,
          21,
          31,
          9,
          30,
          14,
          24,
          28,
          34,
          36,
          14,
          24,
          18,
          32,
          2,
          21,
          12,
          24,
          29,
          12,
          16,
          28,
          4,
          24,
          9,
          32,
          37,
          29,
          19,
          15,
          22,
          2,
          18,
          22,
          24,
          4,
          6,
          28,
          35,
          22,
          13,
          1,
          36,
          33,
          7,
          1,
          1,
          8,
          11,
          38,
          19,
          13,
          12,
          25,
          2,
          21,
          18,
          10,
          25,
          18,
          31,
          2,
          13,
          8,
          6,
          14,
          9,
          16,
          20,
          3,
          24,
          30,
          17,
          22,
          24,
          5,
          34,
          35,
          21,
          37,
          1,
          33,
          13,
          10,
          11,
          18,
          13,
          2,
          10,
          15,
          11,
          36,
          9,
          2,
          11,
          26,
          11,
          12,
          35,
          34,
          2,
          3,
          24,
          11,
          21,
          26,
          29,
          19,
          1,
          25,
          12,
          13,
          20,
          12,
          15,
          12,
          13,
          26,
          6,
          22,
          8,
          26,
          16,
          27,
          35,
          3,
          10,
          4,
          21,
          29,
          22,
          17,
          36,
          33,
          11,
          13,
          20,
          27,
          35,
          19,
          35,
          35,
          33,
          6,
          22,
          18,
          32,
          29,
          4,
          8,
          37,
          28,
          26,
          36,
          36,
          35,
          8,
          18,
          20,
          14,
          37,
          29,
          25,
          26,
          22,
          37,
          23,
          18,
          13,
          16,
          1,
          20,
          11,
          22,
          9,
          35,
          29,
          16,
          9,
          7,
          7,
          34,
          8,
          5,
          17,
          1,
          7,
          2,
          12,
          37,
          35,
          6,
          21,
          13,
          29,
          17,
          1,
          18,
          2,
          15,
          2,
          24,
          6,
          23,
          10,
          35,
          28,
          23,
          1,
          37,
          27,
          29,
          29,
          32,
          10,
          25,
          35,
          31,
          25,
          34,
          15,
          30,
          29,
          5,
          2,
          24,
          20,
          8,
          25,
          36,
          5,
          6,
          9,
          20,
          28,
          4,
          20,
          4,
          18,
          1,
          3,
          16,
          2,
          30,
          18,
          2,
          14,
          19,
          32,
          6,
          32,
          34,
          15,
          11,
          21,
          20,
          35,
          35,
          18,
          31,
          25,
          26,
          7,
          21,
          8,
          10,
          15,
          4,
          15,
          25,
          20,
          3,
          6,
          26,
          5,
          10,
          28,
          12,
          14,
          27,
          27,
          36,
          10,
          4,
          9,
          11,
          22,
          37,
          3,
          38,
          26,
          21,
          3,
          16,
          7,
          30,
          33,
          22,
          7,
          10,
          1,
          31,
          6,
          10,
          38,
          16,
          27,
          25,
          2,
          23,
          27,
          25,
          6,
          7,
          19,
          13,
          4,
          19,
          8,
          12,
          33,
          10,
          14,
          11,
          34,
          2,
          25,
          8,
          27,
          14,
          19,
          17,
          25,
          31,
          21,
          34,
          11,
          5,
          15,
          3,
          38,
          37,
          36,
          33,
          38,
          30,
          6,
          5,
          15,
          27,
          15,
          26,
          38,
          17,
          3,
          8,
          9,
          28,
          36,
          26,
          19,
          14,
          2,
          33,
          34,
          17,
          5,
          10,
          18,
          19,
          4,
          2,
          19,
          26,
          7,
          1,
          7,
          32,
          23,
          36,
          28,
          30,
          35,
          29,
          8,
          31,
          34,
          18,
          8,
          21,
          36,
          18,
          21,
          18,
          31,
          19,
          25,
          29,
          21,
          12,
          8,
          13,
          21,
          7,
          1,
          27,
          24,
          29,
          10,
          37,
          9,
          6,
          15,
          18,
          8,
          14,
          30,
          38,
          6,
          11,
          10,
          1,
          7,
          17,
          10,
          1,
          14,
          16,
          20,
          16,
          25,
          16,
          30,
          21,
          36,
          17,
          35,
          17,
          14,
          15,
          35,
          31,
          31,
          28,
          3,
          13,
          27,
          27,
          10,
          9,
          30,
          30,
          33,
          3,
          36,
          27,
          23,
          33,
          34,
          2,
          38,
          34,
          31,
          3,
          25,
          13,
          1,
          16,
          26,
          24,
          28,
          31,
          26,
          19,
          16,
          4,
          27,
          6,
          22,
          38,
          36,
          10,
          24,
          17,
          37,
          32,
          30,
          21,
          11,
          1,
          32,
          33,
          35,
          28,
          33,
          28,
          34,
          29,
          21,
          11,
          13,
          26,
          25,
          33,
          24,
          15,
          19,
          11,
          26,
          2,
          13,
          7,
          20,
          14,
          18,
          17,
          35,
          10,
          11,
          16,
          8,
          8,
          33,
          21,
          35,
          9,
          23,
          33,
          17,
          20,
          25,
          8,
          37,
          12,
          28,
          37,
          19,
          28,
          27,
          9,
          7,
          17,
          12,
          8,
          28,
          6,
          6,
          4,
          3,
          8,
          37,
          28,
          30,
          36,
          36,
          13,
          26,
          2,
          18,
          14,
          11,
          7,
          16,
          2,
          25,
          3,
          14,
          25,
          9,
          17,
          32,
          6,
          21,
          2,
          10,
          15,
          10,
          16,
          7,
          17,
          37,
          1,
          14,
          1,
          32,
          28,
          18,
          1,
          31,
          27,
          8,
          3,
          33,
          12,
          28,
          23,
          37,
          20,
          36,
          21,
          38,
          6,
          1,
          15,
          5,
          33,
          8,
          2,
          21,
          38,
          25,
          23,
          8,
          18,
          21,
          2,
          16,
          22,
          38,
          11,
          8,
          29,
          34,
          3,
          34,
          26,
          17,
          4,
          26,
          22,
          10,
          32,
          11,
          8,
          2,
          35,
          33,
          12,
          18,
          38,
          9,
          1,
          26,
          22,
          8,
          28,
          16,
          34,
          1,
          20,
          11,
          8,
          9,
          25,
          11,
          30,
          18,
          10,
          14,
          30,
          2,
          26,
          28,
          33,
          18,
          11,
          4,
          22,
          38,
          29,
          25,
          33,
          7,
          29,
          4,
          31,
          15,
          37,
          1,
          27,
          32,
          5,
          10,
          31,
          33,
          12,
          17,
          21,
          28,
          37,
          19,
          38,
          23,
          17,
          6,
          22,
          17,
          14,
          26,
          3,
          11,
          25,
          1,
          28,
          9,
          25,
          27,
          15,
          26,
          8,
          25,
          30,
          17,
          37,
          9,
          37,
          25,
          28,
          8,
          38,
          5,
          36,
          38,
          23,
          23,
          33,
          7,
          6,
          3,
          27,
          38,
          2,
          22,
          36,
          14,
          38,
          7,
          25,
          21,
          34,
          23,
          7,
          9,
          34,
          28,
          35,
          30,
          23,
          8,
          36,
          8,
          19,
          29,
          36,
          18,
          34,
          10,
          21,
          3,
          19,
          8,
          36,
          30,
          38,
          32,
          33,
          5,
          38,
          26,
          3,
          8,
          33,
          34,
          30,
          2,
          3,
          33,
          15,
          8,
          12,
          28,
          38,
          27,
          12,
          11,
          33,
          37,
          11,
          27,
          4,
          8,
          26,
          25,
          5,
          7,
          14,
          7,
          6,
          35,
          29,
          15,
          11,
          22,
          27,
          29,
          36,
          28,
          29,
          25,
          21,
          1,
          4,
          36,
          38,
          32,
          32,
          23,
          16,
          1,
          32,
          15,
          25,
          19,
          26,
          28,
          6,
          9,
          32,
          3,
          17,
          5,
          30,
          36,
          34,
          13,
          34,
          7,
          34,
          19,
          3,
          7,
          28,
          13,
          4,
          27,
          8,
          27,
          6,
          25,
          2,
          10,
          33,
          6,
          17,
          19,
          5,
          5,
          9,
          24,
          3,
          2,
          13,
          28,
          19,
          25,
          6,
          8,
          37,
          1,
          10,
          20,
          13,
          21,
          33,
          22,
          11,
          26,
          5,
          22,
          8,
          20,
          14,
          24,
          37,
          11,
          3,
          26,
          33,
          15,
          38,
          4,
          12,
          15,
          11,
          30,
          22,
          30,
          15,
          2,
          32,
          8,
          2,
          7,
          6,
          13,
          30,
          38,
          7,
          22,
          38,
          27,
          8
         ],
         "xbins": {
          "size": 1
         }
        },
        {
         "mode": "lines",
         "name": "Normal distribution",
         "type": "scatter",
         "x": [
          1,
          1.037,
          1.074,
          1.111,
          1.148,
          1.185,
          1.222,
          1.259,
          1.296,
          1.333,
          1.37,
          1.407,
          1.444,
          1.4809999999999999,
          1.518,
          1.555,
          1.592,
          1.629,
          1.666,
          1.7029999999999998,
          1.74,
          1.777,
          1.814,
          1.851,
          1.888,
          1.9249999999999998,
          1.962,
          1.999,
          2.036,
          2.073,
          2.11,
          2.1470000000000002,
          2.184,
          2.221,
          2.258,
          2.295,
          2.332,
          2.3689999999999998,
          2.4059999999999997,
          2.4429999999999996,
          2.48,
          2.517,
          2.554,
          2.591,
          2.628,
          2.665,
          2.702,
          2.739,
          2.776,
          2.8129999999999997,
          2.8499999999999996,
          2.887,
          2.924,
          2.961,
          2.998,
          3.0349999999999997,
          3.072,
          3.109,
          3.146,
          3.183,
          3.2199999999999998,
          3.2569999999999997,
          3.294,
          3.331,
          3.368,
          3.405,
          3.4419999999999997,
          3.479,
          3.516,
          3.553,
          3.59,
          3.627,
          3.6639999999999997,
          3.701,
          3.738,
          3.775,
          3.812,
          3.8489999999999998,
          3.8859999999999997,
          3.923,
          3.96,
          3.997,
          4.034,
          4.071,
          4.108,
          4.145,
          4.182,
          4.218999999999999,
          4.256,
          4.292999999999999,
          4.33,
          4.367,
          4.404,
          4.441,
          4.478,
          4.515,
          4.552,
          4.589,
          4.6259999999999994,
          4.663,
          4.699999999999999,
          4.737,
          4.774,
          4.811,
          4.848,
          4.885,
          4.922,
          4.959,
          4.996,
          5.0329999999999995,
          5.069999999999999,
          5.107,
          5.144,
          5.181,
          5.218,
          5.255,
          5.292,
          5.329,
          5.366,
          5.403,
          5.4399999999999995,
          5.476999999999999,
          5.513999999999999,
          5.551,
          5.588,
          5.625,
          5.662,
          5.699,
          5.736,
          5.773,
          5.81,
          5.8469999999999995,
          5.8839999999999995,
          5.920999999999999,
          5.958,
          5.995,
          6.032,
          6.069,
          6.106,
          6.143,
          6.18,
          6.217,
          6.254,
          6.2909999999999995,
          6.327999999999999,
          6.364999999999999,
          6.402,
          6.439,
          6.476,
          6.513,
          6.55,
          6.587,
          6.624,
          6.661,
          6.6979999999999995,
          6.734999999999999,
          6.771999999999999,
          6.808999999999999,
          6.846,
          6.883,
          6.92,
          6.957,
          6.994,
          7.031,
          7.068,
          7.1049999999999995,
          7.1419999999999995,
          7.178999999999999,
          7.215999999999999,
          7.253,
          7.29,
          7.327,
          7.364,
          7.401,
          7.438,
          7.475,
          7.512,
          7.5489999999999995,
          7.585999999999999,
          7.622999999999999,
          7.659999999999999,
          7.697,
          7.734,
          7.771,
          7.808,
          7.845,
          7.882,
          7.919,
          7.9559999999999995,
          7.992999999999999,
          8.03,
          8.067,
          8.104,
          8.141,
          8.178,
          8.215,
          8.251999999999999,
          8.289,
          8.326,
          8.363,
          8.399999999999999,
          8.437,
          8.474,
          8.511,
          8.548,
          8.585,
          8.622,
          8.658999999999999,
          8.696,
          8.733,
          8.77,
          8.806999999999999,
          8.844,
          8.881,
          8.918,
          8.954999999999998,
          8.992,
          9.029,
          9.065999999999999,
          9.103,
          9.139999999999999,
          9.177,
          9.214,
          9.251,
          9.288,
          9.325,
          9.362,
          9.399,
          9.436,
          9.472999999999999,
          9.51,
          9.546999999999999,
          9.584,
          9.621,
          9.658,
          9.695,
          9.732,
          9.769,
          9.806,
          9.843,
          9.879999999999999,
          9.917,
          9.953999999999999,
          9.991,
          10.027999999999999,
          10.065,
          10.102,
          10.139,
          10.176,
          10.213,
          10.25,
          10.286999999999999,
          10.324,
          10.360999999999999,
          10.398,
          10.434999999999999,
          10.472,
          10.509,
          10.546,
          10.583,
          10.62,
          10.657,
          10.693999999999999,
          10.731,
          10.767999999999999,
          10.805,
          10.841999999999999,
          10.879,
          10.916,
          10.953,
          10.99,
          11.027,
          11.064,
          11.100999999999999,
          11.138,
          11.174999999999999,
          11.212,
          11.248999999999999,
          11.286,
          11.322999999999999,
          11.36,
          11.397,
          11.434,
          11.471,
          11.508,
          11.545,
          11.581999999999999,
          11.619,
          11.655999999999999,
          11.693,
          11.729999999999999,
          11.767,
          11.804,
          11.841,
          11.878,
          11.915,
          11.952,
          11.988999999999999,
          12.026,
          12.062999999999999,
          12.1,
          12.136999999999999,
          12.174,
          12.211,
          12.248,
          12.285,
          12.322,
          12.359,
          12.395999999999999,
          12.433,
          12.469999999999999,
          12.507,
          12.543999999999999,
          12.581,
          12.617999999999999,
          12.655,
          12.692,
          12.729,
          12.766,
          12.802999999999999,
          12.84,
          12.876999999999999,
          12.914,
          12.950999999999999,
          12.988,
          13.024999999999999,
          13.062,
          13.099,
          13.136,
          13.173,
          13.209999999999999,
          13.247,
          13.283999999999999,
          13.321,
          13.357999999999999,
          13.395,
          13.431999999999999,
          13.469,
          13.506,
          13.543,
          13.58,
          13.616999999999999,
          13.654,
          13.690999999999999,
          13.728,
          13.764999999999999,
          13.802,
          13.838999999999999,
          13.876,
          13.912999999999998,
          13.95,
          13.987,
          14.024,
          14.061,
          14.097999999999999,
          14.135,
          14.171999999999999,
          14.209,
          14.245999999999999,
          14.283,
          14.319999999999999,
          14.357,
          14.394,
          14.431,
          14.468,
          14.504999999999999,
          14.542,
          14.578999999999999,
          14.616,
          14.652999999999999,
          14.69,
          14.726999999999999,
          14.764,
          14.801,
          14.838,
          14.875,
          14.911999999999999,
          14.949,
          14.985999999999999,
          15.023,
          15.059999999999999,
          15.097,
          15.133999999999999,
          15.171,
          15.207999999999998,
          15.245,
          15.282,
          15.318999999999999,
          15.356,
          15.392999999999999,
          15.43,
          15.466999999999999,
          15.504,
          15.540999999999999,
          15.578,
          15.614999999999998,
          15.652,
          15.689,
          15.725999999999999,
          15.763,
          15.799999999999999,
          15.837,
          15.873999999999999,
          15.911,
          15.947999999999999,
          15.985,
          16.022,
          16.058999999999997,
          16.096,
          16.133,
          16.17,
          16.207,
          16.244,
          16.281,
          16.317999999999998,
          16.354999999999997,
          16.392,
          16.429,
          16.466,
          16.503,
          16.54,
          16.576999999999998,
          16.613999999999997,
          16.651,
          16.688,
          16.725,
          16.762,
          16.799,
          16.836,
          16.872999999999998,
          16.909999999999997,
          16.947,
          16.984,
          17.021,
          17.058,
          17.095,
          17.131999999999998,
          17.169,
          17.206,
          17.243,
          17.279999999999998,
          17.317,
          17.354,
          17.391,
          17.428,
          17.465,
          17.502,
          17.538999999999998,
          17.576,
          17.613,
          17.65,
          17.686999999999998,
          17.724,
          17.761,
          17.798,
          17.835,
          17.872,
          17.909,
          17.945999999999998,
          17.983,
          18.02,
          18.057,
          18.093999999999998,
          18.131,
          18.168,
          18.205,
          18.242,
          18.279,
          18.316,
          18.352999999999998,
          18.39,
          18.427,
          18.464,
          18.500999999999998,
          18.538,
          18.575,
          18.612,
          18.648999999999997,
          18.686,
          18.723,
          18.759999999999998,
          18.797,
          18.834,
          18.871,
          18.907999999999998,
          18.945,
          18.982,
          19.019,
          19.055999999999997,
          19.093,
          19.13,
          19.166999999999998,
          19.204,
          19.241,
          19.278,
          19.314999999999998,
          19.352,
          19.389,
          19.426,
          19.462999999999997,
          19.5,
          19.537,
          19.573999999999998,
          19.611,
          19.648,
          19.685,
          19.721999999999998,
          19.759,
          19.796,
          19.833,
          19.869999999999997,
          19.907,
          19.944,
          19.980999999999998,
          20.018,
          20.055,
          20.092,
          20.128999999999998,
          20.166,
          20.203,
          20.24,
          20.276999999999997,
          20.314,
          20.351,
          20.387999999999998,
          20.425,
          20.462,
          20.499,
          20.535999999999998,
          20.573,
          20.61,
          20.647,
          20.683999999999997,
          20.721,
          20.758,
          20.794999999999998,
          20.832,
          20.869,
          20.906,
          20.942999999999998,
          20.98,
          21.017,
          21.054,
          21.090999999999998,
          21.128,
          21.165,
          21.201999999999998,
          21.239,
          21.276,
          21.313,
          21.349999999999998,
          21.387,
          21.424,
          21.461,
          21.497999999999998,
          21.535,
          21.572,
          21.608999999999998,
          21.645999999999997,
          21.683,
          21.72,
          21.756999999999998,
          21.794,
          21.831,
          21.868,
          21.904999999999998,
          21.942,
          21.979,
          22.016,
          22.052999999999997,
          22.09,
          22.127,
          22.163999999999998,
          22.201,
          22.238,
          22.275,
          22.311999999999998,
          22.349,
          22.386,
          22.423,
          22.459999999999997,
          22.497,
          22.534,
          22.570999999999998,
          22.608,
          22.645,
          22.682,
          22.718999999999998,
          22.756,
          22.793,
          22.83,
          22.866999999999997,
          22.904,
          22.941,
          22.977999999999998,
          23.015,
          23.052,
          23.089,
          23.125999999999998,
          23.163,
          23.2,
          23.237,
          23.273999999999997,
          23.311,
          23.348,
          23.384999999999998,
          23.422,
          23.459,
          23.496,
          23.532999999999998,
          23.57,
          23.607,
          23.644,
          23.680999999999997,
          23.718,
          23.755,
          23.791999999999998,
          23.829,
          23.866,
          23.903,
          23.939999999999998,
          23.977,
          24.014,
          24.051,
          24.087999999999997,
          24.125,
          24.162,
          24.198999999999998,
          24.235999999999997,
          24.273,
          24.31,
          24.346999999999998,
          24.384,
          24.421,
          24.458,
          24.494999999999997,
          24.532,
          24.569,
          24.605999999999998,
          24.642999999999997,
          24.68,
          24.717,
          24.753999999999998,
          24.791,
          24.828,
          24.865,
          24.901999999999997,
          24.939,
          24.976,
          25.012999999999998,
          25.049999999999997,
          25.087,
          25.124,
          25.160999999999998,
          25.198,
          25.235,
          25.272,
          25.308999999999997,
          25.346,
          25.383,
          25.419999999999998,
          25.456999999999997,
          25.494,
          25.531,
          25.567999999999998,
          25.605,
          25.642,
          25.679,
          25.715999999999998,
          25.753,
          25.79,
          25.826999999999998,
          25.863999999999997,
          25.901,
          25.938,
          25.974999999999998,
          26.012,
          26.049,
          26.086,
          26.122999999999998,
          26.16,
          26.197,
          26.233999999999998,
          26.270999999999997,
          26.308,
          26.345,
          26.381999999999998,
          26.419,
          26.456,
          26.493,
          26.529999999999998,
          26.567,
          26.604,
          26.641,
          26.677999999999997,
          26.715,
          26.752,
          26.788999999999998,
          26.825999999999997,
          26.863,
          26.9,
          26.936999999999998,
          26.974,
          27.011,
          27.048,
          27.084999999999997,
          27.122,
          27.159,
          27.195999999999998,
          27.232999999999997,
          27.27,
          27.307,
          27.343999999999998,
          27.381,
          27.418,
          27.455,
          27.491999999999997,
          27.529,
          27.566,
          27.602999999999998,
          27.639999999999997,
          27.677,
          27.714,
          27.750999999999998,
          27.788,
          27.825,
          27.862,
          27.898999999999997,
          27.936,
          27.973,
          28.009999999999998,
          28.046999999999997,
          28.084,
          28.121,
          28.157999999999998,
          28.195,
          28.232,
          28.269,
          28.305999999999997,
          28.343,
          28.38,
          28.416999999999998,
          28.453999999999997,
          28.491,
          28.528,
          28.564999999999998,
          28.602,
          28.639,
          28.676,
          28.712999999999997,
          28.75,
          28.787,
          28.823999999999998,
          28.860999999999997,
          28.898,
          28.935,
          28.971999999999998,
          29.009,
          29.046,
          29.083,
          29.119999999999997,
          29.157,
          29.194,
          29.230999999999998,
          29.267999999999997,
          29.305,
          29.342,
          29.378999999999998,
          29.415999999999997,
          29.453,
          29.49,
          29.526999999999997,
          29.564,
          29.601,
          29.637999999999998,
          29.674999999999997,
          29.712,
          29.749,
          29.785999999999998,
          29.822999999999997,
          29.86,
          29.897,
          29.933999999999997,
          29.971,
          30.008,
          30.044999999999998,
          30.081999999999997,
          30.119,
          30.156,
          30.192999999999998,
          30.229999999999997,
          30.267,
          30.304,
          30.340999999999998,
          30.378,
          30.415,
          30.451999999999998,
          30.488999999999997,
          30.526,
          30.563,
          30.599999999999998,
          30.636999999999997,
          30.674,
          30.711,
          30.747999999999998,
          30.785,
          30.822,
          30.858999999999998,
          30.895999999999997,
          30.933,
          30.97,
          31.006999999999998,
          31.043999999999997,
          31.081,
          31.118,
          31.154999999999998,
          31.192,
          31.229,
          31.266,
          31.302999999999997,
          31.34,
          31.377,
          31.413999999999998,
          31.450999999999997,
          31.488,
          31.525,
          31.561999999999998,
          31.599,
          31.636,
          31.673,
          31.709999999999997,
          31.747,
          31.784,
          31.820999999999998,
          31.857999999999997,
          31.895,
          31.932,
          31.968999999999998,
          32.006,
          32.043,
          32.08,
          32.117,
          32.153999999999996,
          32.191,
          32.227999999999994,
          32.265,
          32.302,
          32.339,
          32.376,
          32.413,
          32.45,
          32.486999999999995,
          32.524,
          32.561,
          32.598,
          32.635,
          32.672,
          32.709,
          32.745999999999995,
          32.783,
          32.81999999999999,
          32.857,
          32.894,
          32.931,
          32.968,
          33.004999999999995,
          33.042,
          33.079,
          33.116,
          33.153,
          33.19,
          33.227,
          33.263999999999996,
          33.301,
          33.338,
          33.375,
          33.412,
          33.449,
          33.486,
          33.522999999999996,
          33.559999999999995,
          33.597,
          33.634,
          33.671,
          33.708,
          33.745,
          33.782,
          33.818999999999996,
          33.856,
          33.893,
          33.93,
          33.967,
          34.004,
          34.041,
          34.077999999999996,
          34.114999999999995,
          34.152,
          34.189,
          34.226,
          34.263,
          34.3,
          34.336999999999996,
          34.373999999999995,
          34.411,
          34.448,
          34.485,
          34.522,
          34.559,
          34.596,
          34.632999999999996,
          34.67,
          34.707,
          34.744,
          34.781,
          34.818,
          34.855,
          34.891999999999996,
          34.928999999999995,
          34.966,
          35.003,
          35.04,
          35.077,
          35.114,
          35.150999999999996,
          35.187999999999995,
          35.225,
          35.262,
          35.299,
          35.336,
          35.373,
          35.41,
          35.446999999999996,
          35.484,
          35.521,
          35.558,
          35.595,
          35.632,
          35.669,
          35.705999999999996,
          35.742999999999995,
          35.78,
          35.817,
          35.854,
          35.891,
          35.928,
          35.964999999999996,
          36.001999999999995,
          36.039,
          36.076,
          36.113,
          36.15,
          36.187,
          36.224,
          36.260999999999996,
          36.297999999999995,
          36.335,
          36.372,
          36.409,
          36.446,
          36.483,
          36.519999999999996,
          36.556999999999995,
          36.594,
          36.631,
          36.668,
          36.705,
          36.742,
          36.778999999999996,
          36.815999999999995,
          36.853,
          36.89,
          36.927,
          36.964,
          37.001,
          37.038,
          37.074999999999996,
          37.111999999999995,
          37.149,
          37.186,
          37.223,
          37.26,
          37.297,
          37.333999999999996,
          37.370999999999995,
          37.408,
          37.445,
          37.482,
          37.519,
          37.556,
          37.592999999999996,
          37.629999999999995,
          37.667,
          37.704,
          37.741,
          37.778,
          37.815,
          37.852,
          37.888999999999996,
          37.925999999999995,
          37.963
         ],
         "y": [
          0.009467231026724726,
          0.009518284831800573,
          0.009569509354928982,
          0.00962090439204706,
          0.009672469732388517,
          0.009724205158456888,
          0.009776110445998987,
          0.009828185363978587,
          0.009880429674550375,
          0.009932843133034091,
          0.009985425487888925,
          0.010038176480688115,
          0.010091095846093898,
          0.010144183311832564,
          0.010197438598669858,
          0.010250861420386592,
          0.010304451483754532,
          0.010358208488512525,
          0.010412132127342892,
          0.010466222085848095,
          0.010520478042527653,
          0.010574899668755355,
          0.010629486628756676,
          0.010684238579586591,
          0.01073915517110754,
          0.010794236045967735,
          0.010849480839579774,
          0.010904889180099466,
          0.010960460688405038,
          0.011016194978076531,
          0.011072091655375595,
          0.01112815031922552,
          0.011184370561191563,
          0.01124075196546161,
          0.011297294108827145,
          0.011353996560664482,
          0.01141085888291637,
          0.011467880630073857,
          0.011525061349158525,
          0.011582400579705013,
          0.011639897853743834,
          0.011697552695784605,
          0.011755364622799514,
          0.011813333144207176,
          0.011871457761856784,
          0.01192973797001264,
          0.011988173255338996,
          0.01204676309688521,
          0.012105506966071327,
          0.01216440432667393,
          0.012223454634812371,
          0.01228265733893537,
          0.012342011879807926,
          0.012401517690498633,
          0.012461174196367329,
          0.012520980815053104,
          0.012580936956462702,
          0.01264104202275925,
          0.01270129540835141,
          0.012761696499882815,
          0.012822244676222014,
          0.012882939308452654,
          0.012943779759864153,
          0.01300476538594267,
          0.01306589553436253,
          0.013127169544977987,
          0.013188586749815412,
          0.013250146473065834,
          0.01331184803107792,
          0.013373690732351319,
          0.013435673877530406,
          0.013497796759398462,
          0.013560058662872214,
          0.01362245886499679,
          0.01368499663494111,
          0.013747671233993671,
          0.013810481915558713,
          0.013873427925152861,
          0.013936508500402121,
          0.01399972287103935,
          0.014063070258902105,
          0.014126549877930925,
          0.014190160934168061,
          0.014253902625756609,
          0.014317774142940061,
          0.01438177466806232,
          0.014445903375568137,
          0.014510159432003957,
          0.014574541996019244,
          0.014639050218368196,
          0.014703683241911946,
          0.014768440201621174,
          0.01483332022457918,
          0.014898322429985397,
          0.014963445929159344,
          0.015028689825545028,
          0.01509405321471582,
          0.015159535184379756,
          0.01522513481438531,
          0.0152908511767276,
          0.015356683335555076,
          0.01542263034717666,
          0.01548869126006933,
          0.01555486511488618,
          0.015621150944464963,
          0.01568754777383705,
          0.01575405462023689,
          0.015820670493111925,
          0.015887394394133003,
          0.01595422531720518,
          0.016021162248479118,
          0.016088204166362828,
          0.016155350041533977,
          0.01622259883695262,
          0.01628994950787443,
          0.016357401001864415,
          0.01642495225881107,
          0.016492602210941065,
          0.01656034978283436,
          0.016628193891439838,
          0.016696133446091423,
          0.016764167348524633,
          0.016832294492893668,
          0.016900513765788966,
          0.01696882404625526,
          0.017037224205810053,
          0.017105713108462695,
          0.01717428961073385,
          0.017242952561675476,
          0.017311700802891336,
          0.017380533168557956,
          0.017449448485446082,
          0.01751844557294262,
          0.017587523243073097,
          0.017656680300524592,
          0.01772591554266916,
          0.017795227759587754,
          0.017864615734094626,
          0.01793407824176226,
          0.018003614050946744,
          0.018073221922813666,
          0.018142900611364546,
          0.018212648863463656,
          0.018282465418865454,
          0.018352349010242394,
          0.018422298363213373,
          0.01849231219637252,
          0.018562389221318594,
          0.018632528142684828,
          0.018702727658169264,
          0.018772986458565604,
          0.018843303227794546,
          0.0189136766429356,
          0.018984105374259444,
          0.019054588085260706,
          0.019125123432691273,
          0.019195710066594138,
          0.019266346630337657,
          0.01933703176065034,
          0.019407764087656137,
          0.01947854223491023,
          0.01954936481943528,
          0.01962023045175814,
          0.01969113773594717,
          0.019762085269649923,
          0.019833071644131353,
          0.019904095444312563,
          0.019975155248809967,
          0.02004624962997497,
          0.020117377153934135,
          0.02018853638062984,
          0.0202597258638614,
          0.020330944151326674,
          0.020402189784664154,
          0.02047346129949558,
          0.020544757225468932,
          0.020616076086302,
          0.02068741639982636,
          0.020758776678031894,
          0.02083015542711171,
          0.020901551147507608,
          0.020972962333955923,
          0.021044387475533954,
          0.02111582505570675,
          0.021187273552374465,
          0.021258731437920095,
          0.02133019717925772,
          0.02140166923788118,
          0.02147314606991329,
          0.021544626126155392,
          0.021616107852137467,
          0.021687589688168658,
          0.021759070069388223,
          0.021830547425817023,
          0.021902020182409363,
          0.021973486759105345,
          0.022044945570883635,
          0.022116395027814702,
          0.022187833535114464,
          0.0222592594931984,
          0.022330671297736106,
          0.022402067339706268,
          0.022473446005452046,
          0.022544805676736952,
          0.02261614473080111,
          0.02268746154041796,
          0.022758754473951353,
          0.02283002189541314,
          0.02290126216452111,
          0.022972473636757366,
          0.023043654663427136,
          0.02311480359171797,
          0.023185918764759353,
          0.02325699852168275,
          0.023328041197681993,
          0.023399045124074154,
          0.02347000862836074,
          0.02354093003428931,
          0.02361180766191552,
          0.02368263982766551,
          0.023753424844398675,
          0.023824161021470888,
          0.023894846664797992,
          0.023965480076919794,
          0.02403605955706435,
          0.024106583401212613,
          0.024177049902163548,
          0.024247457349599478,
          0.024317804030151918,
          0.024388088227467665,
          0.024458308222275328,
          0.024528462292452115,
          0.0245985487130911,
          0.024668565756568703,
          0.024738511692612576,
          0.024808384788369855,
          0.02487818330847567,
          0.02494790551512206,
          0.025017549668127165,
          0.025087114025004794,
          0.025156596841034225,
          0.02522599636933045,
          0.02529531086091459,
          0.02536453856478477,
          0.025433677727987138,
          0.025502726595687343,
          0.025571683411242187,
          0.025640546416271635,
          0.025709313850731125,
          0.025777983952984095,
          0.02584655495987488,
          0.02591502510680183,
          0.0259833926277907,
          0.02605165575556834,
          0.02611981272163666,
          0.026187861756346784,
          0.026255801088973563,
          0.026323628947790258,
          0.02639134356014351,
          0.026458943152528558,
          0.026526425950664678,
          0.02659379017957088,
          0.026661034063641814,
          0.02672815582672392,
          0.026795153692191785,
          0.026862025883024755,
          0.02692877062188371,
          0.02699538613118808,
          0.027061870633193066,
          0.02712822235006705,
          0.027194439503969207,
          0.027260520317127297,
          0.02732646301191569,
          0.027392265810933472,
          0.027457926937082867,
          0.027523444613647693,
          0.0275888170643721,
          0.027654042513539378,
          0.027719119186051005,
          0.027784045307505785,
          0.027848819104279162,
          0.027913438803602687,
          0.027977902633643588,
          0.028042208823584543,
          0.028106355603703476,
          0.028170341205453593,
          0.028234163861543433,
          0.028297821806017136,
          0.02836131327433471,
          0.028424636503452505,
          0.028487789731903697,
          0.028550771199878963,
          0.028613579149307126,
          0.028676211823935985,
          0.028738667469413202,
          0.028800944333367193,
          0.028863040665488195,
          0.028924954717609315,
          0.028986684743787672,
          0.029048229000385575,
          0.029109585746151787,
          0.029170753242302744,
          0.029231729752603946,
          0.029292513543451238,
          0.029353102883952206,
          0.029413496046007598,
          0.029473691304392688,
          0.029533686936838725,
          0.02959348122411435,
          0.029653072450107027,
          0.02971245890190446,
          0.029771638869876008,
          0.029830610647754073,
          0.029889372532715473,
          0.029947922825462797,
          0.030006259830305703,
          0.03006438185524221,
          0.03012228721203992,
          0.030179974216317212,
          0.030237441187624364,
          0.03029468644952463,
          0.03035170832967524,
          0.03040850515990836,
          0.030465075276311905,
          0.030521417019310382,
          0.030577528733745522,
          0.03063340876895693,
          0.030689055478862564,
          0.030744467222039138,
          0.03079964236180242,
          0.03085457926628742,
          0.030909276308528424,
          0.030963731866538956,
          0.031017944323391573,
          0.031071912067297522,
          0.031125633491686292,
          0.031179106995284967,
          0.0312323309821975,
          0.03128530386198372,
          0.0313380240497383,
          0.031390489966169464,
          0.03144270003767757,
          0.031494652696433485,
          0.031546346380456794,
          0.031597779533693804,
          0.03164895060609537,
          0.031699858053694525,
          0.03175050033868383,
          0.031800875929492656,
          0.031850983300864076,
          0.031900820933931685,
          0.03195038731629611,
          0.03199968094210129,
          0.03204870031211054,
          0.03209744393378238,
          0.03214591032134606,
          0.032194097995876914,
          0.032242005485371365,
          0.03228963132482172,
          0.032336974056290685,
          0.03238403222898561,
          0.03243080439933241,
          0.032477289131049254,
          0.032523484995219926,
          0.032569390570366924,
          0.032615004442524194,
          0.032660325205309634,
          0.03270535145999724,
          0.03275008181558891,
          0.03279451488888599,
          0.032838649304560465,
          0.03288248369522576,
          0.0329260167015073,
          0.03296924697211266,
          0.033012173163901384,
          0.03305479394195444,
          0.03309710797964335,
          0.033139113958698924,
          0.03318081056927961,
          0.03322219651003954,
          0.033263270488196106,
          0.03330403121959723,
          0.03334447742878818,
          0.0333846078490781,
          0.033424421222605964,
          0.03346391630040629,
          0.03350309184247442,
          0.033541946617831275,
          0.03358047940458782,
          0.033618688990009075,
          0.03365657417057764,
          0.033694133752056855,
          0.03373136654955351,
          0.033768271387580095,
          0.03380484710011661,
          0.03384109253067194,
          0.03387700653234476,
          0.033912587967884,
          0.03394783570974884,
          0.03398274864016817,
          0.03401732565119975,
          0.03405156564478868,
          0.03408546753282555,
          0.03411903023720404,
          0.034152252689878024,
          0.0341851338329182,
          0.03421767261856823,
          0.03424986800930035,
          0.0342817189778705,
          0.034313224507372925,
          0.034344383591294284,
          0.0343751952335672,
          0.034405658448623345,
          0.03443577226144595,
          0.03446553570762182,
          0.034494947833392776,
          0.034524007695706606,
          0.034552714362267416,
          0.03458106691158552,
          0.03460906443302668,
          0.03463670602686087,
          0.034663990804310464,
          0.034690917887597844,
          0.03471748640999247,
          0.03474369551585732,
          0.034769544360694904,
          0.03479503211119253,
          0.0348201579452671,
          0.034844921052109304,
          0.03486932063222722,
          0.03489335589748931,
          0.03491702607116688,
          0.03494033038797588,
          0.03496326809411815,
          0.03498583844732206,
          0.03500804071688254,
          0.035029874183700474,
          0.03505133814032158,
          0.03507243189097454,
          0.03509315475160863,
          0.03511350604993069,
          0.03513348512544145,
          0.035153091329471274,
          0.035172324025215265,
          0.03519118258776772,
          0.03520966640415597,
          0.0352277748733736,
          0.035245507406412996,
          0.035262863426297295,
          0.03527984236811167,
          0.03529644367903396,
          0.03531266681836469,
          0.03532851125755639,
          0.03534397648024235,
          0.035359061982264586,
          0.0353737672717013,
          0.0353880918688936,
          0.03540203530647155,
          0.0354155971293796,
          0.03542877689490134,
          0.03544157417268361,
          0.03545398854475985,
          0.035466019605572933,
          0.0354776669619972,
          0.03548893023335988,
          0.03549980905146181,
          0.03551030306059753,
          0.03552041191757464,
          0.03553013529173251,
          0.03553947286496032,
          0.035548424331714394,
          0.03555698939903485,
          0.035565167786561616,
          0.03557295922654969,
          0.03558036346388376,
          0.03558738025609215,
          0.03559400937335999,
          0.03560025059854186,
          0.03560610372717355,
          0.03561156856748326,
          0.03561664494040209,
          0.035621332679573806,
          0.0356256316313639,
          0.035629541654868035,
          0.03563306262191968,
          0.03563619441709718,
          0.03563893693773,
          0.03564129009390436,
          0.03564325380846817,
          0.03564482801703521,
          0.03564601266798867,
          0.03564680772248396,
          0.035647213154450824,
          0.03564722895059481,
          0.03564685511039794,
          0.035646091646118774,
          0.035644938582791705,
          0.03564339595822567,
          0.03564146382300195,
          0.03563914224047156,
          0.03563643128675166,
          0.03563333105072147,
          0.03562984163401738,
          0.03562596315102743,
          0.035621695728884996,
          0.03561703950746193,
          0.035611994639360836,
          0.03560656128990681,
          0.03560073963713834,
          0.03559452987179765,
          0.03558793219732021,
          0.03558094682982372,
          0.035573573998096214,
          0.03556581394358365,
          0.035557666920376665,
          0.035549133195196786,
          0.035540213047381794,
          0.03553090676887056,
          0.03552121466418704,
          0.03551113705042376,
          0.03550067425722445,
          0.03548982662676611,
          0.035478594513740344,
          0.03546697828533403,
          0.03545497832120935,
          0.035442595013483055,
          0.03542982876670513,
          0.035416679997836785,
          0.03540314913622775,
          0.0353892366235929,
          0.0353749429139882,
          0.035360268473786066,
          0.03534521378164997,
          0.03532977932850839,
          0.035313965617528205,
          0.03529777316408727,
          0.03528120249574647,
          0.035264254152221085,
          0.03524692868535145,
          0.03522922665907305,
          0.0352111486493859,
          0.03519269524432332,
          0.035173867043920067,
          0.03515466466017979,
          0.03513508871704189,
          0.035115139850347775,
          0.035094818707806355,
          0.035074125948959055,
          0.03505306224514413,
          0.03503162827946036,
          0.03500982474673012,
          0.03498765235346185,
          0.03496511181781193,
          0.03494220386954587,
          0.03491892924999895,
          0.034895288712036246,
          0.034871283020012064,
          0.034846912949728685,
          0.03482217928839467,
          0.03479708283458243,
          0.034771624398185264,
          0.034745804800373814,
          0.03471962487355192,
          0.0346930854613119,
          0.03466618741838925,
          0.034638931610616756,
          0.03461131891487809,
          0.03458335021906075,
          0.034555026422008514,
          0.0345263484334733,
          0.03449731717406645,
          0.03446793357520953,
          0.0344381985790845,
          0.03440811313858335,
          0.03437767821725729,
          0.03434689478926526,
          0.03431576383932202,
          0.03428428636264562,
          0.03425246336490442,
          0.03422029586216358,
          0.03418778488083092,
          0.034154931457602455,
          0.034121736639407235,
          0.034088201483351815,
          0.034054327056664134,
          0.03402011443663695,
          0.03398556471057076,
          0.03395067897571621,
          0.03391545833921605,
          0.03387990391804664,
          0.03384401683895888,
          0.033807798238418764,
          0.03377124926254738,
          0.033734371067060585,
          0.033697164817208025,
          0.033659631687711876,
          0.03362177286270505,
          0.03358358953566895,
          0.03354508290937082,
          0.033506254195800646,
          0.03346710461610762,
          0.03342763540053618,
          0.03338784778836158,
          0.0333477430278252,
          0.03330732237606922,
          0.03326658709907103,
          0.03322553847157725,
          0.033184177777037256,
          0.03314250630753637,
          0.033100525363728664,
          0.03305823625476937,
          0.03301564029824692,
          0.032972738820114554,
          0.03292953315462166,
          0.03288602464424468,
          0.03284221463961767,
          0.03279810449946251,
          0.03275369559051875,
          0.032708989287473164,
          0.03266398697288889,
          0.0326186900371343,
          0.032573099878311466,
          0.03252721790218444,
          0.03248104552210704,
          0.03243458415895043,
          0.03238783524103042,
          0.032340800204034355,
          0.03229348049094779,
          0.03224587755198084,
          0.03219799284449427,
          0.03214982783292527,
          0.032101383988712956,
          0.032052662790223625,
          0.03200366572267574,
          0.03195439427806462,
          0.0319048499550869,
          0.03185503425906477,
          0.03180494870186991,
          0.03175459480184723,
          0.03170397408373833,
          0.03165308807860482,
          0.03160193832375129,
          0.03155052636264819,
          0.0314988537448544,
          0.031446922025939655,
          0.03139473276740672,
          0.031342287536613424,
          0.03128958790669444,
          0.031236635456482958,
          0.031183431770432084,
          0.031129978438536134,
          0.031076277056251742,
          0.03102232922441882,
          0.030968136549181298,
          0.030913700641907772,
          0.030859023119112018,
          0.030804105602373285,
          0.030748949718256542,
          0.030693557098232512,
          0.030637929378597682,
          0.03058206820039407,
          0.03052597520932897,
          0.030469652055694563,
          0.030413100394287424,
          0.030356321884327908,
          0.03029931818937947,
          0.030242090977267915,
          0.030184641920000515,
          0.030126972693685083,
          0.030069084978448988,
          0.030010980458358066,
          0.029952660821335523,
          0.02989412775908072,
          0.029835382966987956,
          0.029776428144065226,
          0.029717264992852852,
          0.029657895219342194,
          0.02959832053289425,
          0.029538542646158263,
          0.02947856327499033,
          0.02941838413837195,
          0.02935800695832865,
          0.029297433459848504,
          0.029236665370800736,
          0.029175704421854316,
          0.029114552346396552,
          0.029053210880451725,
          0.028991681762599714,
          0.028929966733894735,
          0.028868067537783995,
          0.028805985920026495,
          0.028743723628611818,
          0.028681282413679024,
          0.02861866402743552,
          0.02855587022407607,
          0.028492902759701837,
          0.028429763392239526,
          0.028366453881360547,
          0.028302975988400328,
          0.02823933147627767,
          0.028175522109414236,
          0.028111549653654092,
          0.028047415876183375,
          0.027983122545450104,
          0.027918671431084025,
          0.027854064303816647,
          0.027789302935401366,
          0.027724389098533746,
          0.02765932456677188,
          0.027594111114456952,
          0.027528750516633897,
          0.02746324454897225,
          0.027397594987687082,
          0.027331803609460182,
          0.027265872191361326,
          0.027199802510769755,
          0.02713359634529581,
          0.02706725547270273,
          0.0270007816708287,
          0.026934176717508966,
          0.02686744239049826,
          0.02680058046739334,
          0.02673359272555578,
          0.026666480942034925,
          0.026599246893491076,
          0.02653189235611891,
          0.026464419105571062,
          0.026396828916881977,
          0.02632912356439198,
          0.02626130482167157,
          0.026193374461445935,
          0.02612533425551974,
          0.02605718597470214,
          0.02598893138873204,
          0.02592057226620362,
          0.025852110374492095,
          0.02578354747967978,
          0.025714885346482353,
          0.025646125738175457,
          0.02557727041652153,
          0.025508321141696936,
          0.025439279672219362,
          0.025370147764875513,
          0.025300927174649077,
          0.025231619654649047,
          0.025162226956038227,
          0.025092750827962144,
          0.025023193017478237,
          0.024953555269485308,
          0.02488383932665334,
          0.02481404692935362,
          0.024744179815589185,
          0.02467423972092555,
          0.024604228378421817,
          0.024534147518562106,
          0.024463998869187303,
          0.024393784155427128,
          0.0243235050996326,
          0.024253163421308826,
          0.024182760837048088,
          0.02411229906046335,
          0.024041779802122083,
          0.023971204769480503,
          0.023900575666818056,
          0.023829894195172386,
          0.023759162052274612,
          0.023688380932485,
          0.023617552526728987,
          0.023546678522433594,
          0.023475760603464218,
          0.023404800450061835,
          0.02333379973878053,
          0.023262760142425468,
          0.02319168332999125,
          0.02312057096660063,
          0.02304942471344368,
          0.02297824622771731,
          0.02290703716256524,
          0.022835799167018313,
          0.022764533885935283,
          0.02269324295994397,
          0.022621928025382883,
          0.022550590714243163,
          0.022479232654111034,
          0.022407855468110666,
          0.022336460774847414,
          0.022265050188351503,
          0.022193625318022183,
          0.022122187768572273,
          0.02205073913997312,
          0.02197928102740005,
          0.021907815021178202,
          0.021836342706728885,
          0.021764865664516228,
          0.021693385469994438,
          0.02162190369355542,
          0.021550421900476815,
          0.02147894165087057,
          0.021407464499631913,
          0.021335991996388776,
          0.02126452568545168,
          0.02119306710576409,
          0.02112161779085323,
          0.021050179268781343,
          0.02097875306209741,
          0.02090734068778933,
          0.020835943657236622,
          0.02076456347616351,
          0.02069320164459253,
          0.02062185965679858,
          0.020550539001263492,
          0.02047924116063098,
          0.020407967611662175,
          0.020336719825191522,
          0.020265499266083297,
          0.02019430739318842,
          0.020123145659301903,
          0.02005201551112071,
          0.019980918389202088,
          0.01990985572792241,
          0.019838828955436472,
          0.019767839493637356,
          0.0196968887581166,
          0.01962597815812506,
          0.01955510909653411,
          0.01948428296979745,
          0.01941350116791324,
          0.019342765074386887,
          0.019272076066194254,
          0.019201435513745327,
          0.019130844780848404,
          0.019060305224674796,
          0.018989818195724012,
          0.01891938503778937,
          0.018849007087924204,
          0.01877868567640847,
          0.018708422126715953,
          0.01863821775548182,
          0.01856807387247082,
          0.018497991780545876,
          0.018427972775637208,
          0.018358018146711952,
          0.01828812917574426,
          0.018218307137685897,
          0.0181485533004374,
          0.018078868924819542,
          0.018009255264545568,
          0.017939713566193664,
          0.017870245069180096,
          0.017800851005732757,
          0.017731532600865223,
          0.017662291072351382,
          0.017593127630700332,
          0.01752404347913214,
          0.017455039813553692,
          0.017386117822535338,
          0.01731727868728787,
          0.017248523581640054,
          0.017179853672016677,
          0.01711127011741692,
          0.017042774069393557,
          0.016974366672032185,
          0.016906049061931428,
          0.01683782236818324,
          0.0167696877123539,
          0.0167016462084655,
          0.016633698962977724,
          0.01656584707477043,
          0.016498091635126402,
          0.016430433727714792,
          0.01636287442857496,
          0.016295414806100816,
          0.016228055921025636,
          0.016160798826407367,
          0.016093644567614435,
          0.01602659418231196,
          0.015959648700448498,
          0.01589280914424329,
          0.015826076528173916,
          0.01575945185896446,
          0.015692936135574164,
          0.015626530349186492,
          0.015560235483198771,
          0.015494052513212161,
          0.01542798240702221,
          0.015362026124609813,
          0.01529618461813267,
          0.01523045883191717,
          0.01516484970245076,
          0.015099358158374815,
          0.015033985120477855,
          0.014968731501689321,
          0.014903598207073777,
          0.014838586133825559,
          0.014773696171263872,
          0.014708929200828353,
          0.01464428609607506,
          0.014579767722672976,
          0.014515374938400822,
          0.014451108593144461,
          0.014386969528894665,
          0.014322958579745335,
          0.014259076571892168,
          0.014195324323631735,
          0.01413170264536108,
          0.014068212339577594,
          0.014004854200879477,
          0.013941629015966548,
          0.013878537563641484,
          0.01381558061481152,
          0.013752758932490533,
          0.013690073271801597,
          0.013627524379979869,
          0.013565112996375988,
          0.013502839852459836,
          0.013440705671824723,
          0.013378711170191978,
          0.013316857055415958,
          0.013255144027489446,
          0.013193572778549502,
          0.013132143992883615,
          0.013070858346936361,
          0.013009716509316399,
          0.012948719140803883,
          0.012887866894358248,
          0.012827160415126392,
          0.012766600340451295,
          0.01270618729988091,
          0.012645921915177556,
          0.01258580480032762,
          0.012525836561551656,
          0.012466017797314884,
          0.01240634909833799,
          0.012346831047608428,
          0.012287464220391913,
          0.01222824918424443,
          0.01216918649902454,
          0.012110276716906052,
          0.012051520382391058,
          0.011992918032323328,
          0.011934470195902025,
          0.011876177394695864,
          0.011818040142657459,
          0.011760058946138182,
          0.011702234303903243,
          0.011644566707147185,
          0.011587056639509674,
          0.011529704577091618,
          0.011472510988471699,
          0.011415476334723076,
          0.011358601069430579,
          0.011301885638708127,
          0.01124533048121649,
          0.011188936028181395,
          0.011132702703411901,
          0.011076630923319111,
          0.011020721096935228,
          0.010964973625932831,
          0.010909388904644537,
          0.010853967320082923,
          0.010798709251960753,
          0.010743615072711514,
          0.010688685147510217,
          0.010633919834294535,
          0.010579319483786154,
          0.010524884439512472,
          0.01047061503782856,
          0.0104165116079394,
          0.010362574471922388,
          0.010308803944750106,
          0.010255200334313434,
          0.01020176394144479,
          0.010148495059941757,
          0.010095393976590927,
          0.010042460971192,
          0.009989696316582135,
          0.009937100278660559,
          0.009884673116413424,
          0.009832415081938951,
          0.009780326420472694,
          0.009728407370413202,
          0.009676658163347805,
          0.009625079024078697,
          0.0095736701706492,
          0.009522431814370298,
          0.009471364159847404,
          0.00942046740500727,
          0.009369741741125225,
          0.009319187352852544,
          0.009268804418244089,
          0.009218593108786127,
          0.009168553589424347,
          0.009118686018592146,
          0.009068990548239012,
          0.009019467323859208,
          0.008970116484520587,
          0.008920938162893627,
          0.008871932485280653,
          0.008823099571645239,
          0.008774439535641785
         ]
        }
       ],
       "layout": {
        "template": {
         "data": {
          "bar": [
           {
            "error_x": {
             "color": "#2a3f5f"
            },
            "error_y": {
             "color": "#2a3f5f"
            },
            "marker": {
             "line": {
              "color": "#E5ECF6",
              "width": 0.5
             }
            },
            "type": "bar"
           }
          ],
          "barpolar": [
           {
            "marker": {
             "line": {
              "color": "#E5ECF6",
              "width": 0.5
             }
            },
            "type": "barpolar"
           }
          ],
          "carpet": [
           {
            "aaxis": {
             "endlinecolor": "#2a3f5f",
             "gridcolor": "white",
             "linecolor": "white",
             "minorgridcolor": "white",
             "startlinecolor": "#2a3f5f"
            },
            "baxis": {
             "endlinecolor": "#2a3f5f",
             "gridcolor": "white",
             "linecolor": "white",
             "minorgridcolor": "white",
             "startlinecolor": "#2a3f5f"
            },
            "type": "carpet"
           }
          ],
          "choropleth": [
           {
            "colorbar": {
             "outlinewidth": 0,
             "ticks": ""
            },
            "type": "choropleth"
           }
          ],
          "contour": [
           {
            "colorbar": {
             "outlinewidth": 0,
             "ticks": ""
            },
            "colorscale": [
             [
              0,
              "#0d0887"
             ],
             [
              0.1111111111111111,
              "#46039f"
             ],
             [
              0.2222222222222222,
              "#7201a8"
             ],
             [
              0.3333333333333333,
              "#9c179e"
             ],
             [
              0.4444444444444444,
              "#bd3786"
             ],
             [
              0.5555555555555556,
              "#d8576b"
             ],
             [
              0.6666666666666666,
              "#ed7953"
             ],
             [
              0.7777777777777778,
              "#fb9f3a"
             ],
             [
              0.8888888888888888,
              "#fdca26"
             ],
             [
              1,
              "#f0f921"
             ]
            ],
            "type": "contour"
           }
          ],
          "contourcarpet": [
           {
            "colorbar": {
             "outlinewidth": 0,
             "ticks": ""
            },
            "type": "contourcarpet"
           }
          ],
          "heatmap": [
           {
            "colorbar": {
             "outlinewidth": 0,
             "ticks": ""
            },
            "colorscale": [
             [
              0,
              "#0d0887"
             ],
             [
              0.1111111111111111,
              "#46039f"
             ],
             [
              0.2222222222222222,
              "#7201a8"
             ],
             [
              0.3333333333333333,
              "#9c179e"
             ],
             [
              0.4444444444444444,
              "#bd3786"
             ],
             [
              0.5555555555555556,
              "#d8576b"
             ],
             [
              0.6666666666666666,
              "#ed7953"
             ],
             [
              0.7777777777777778,
              "#fb9f3a"
             ],
             [
              0.8888888888888888,
              "#fdca26"
             ],
             [
              1,
              "#f0f921"
             ]
            ],
            "type": "heatmap"
           }
          ],
          "heatmapgl": [
           {
            "colorbar": {
             "outlinewidth": 0,
             "ticks": ""
            },
            "colorscale": [
             [
              0,
              "#0d0887"
             ],
             [
              0.1111111111111111,
              "#46039f"
             ],
             [
              0.2222222222222222,
              "#7201a8"
             ],
             [
              0.3333333333333333,
              "#9c179e"
             ],
             [
              0.4444444444444444,
              "#bd3786"
             ],
             [
              0.5555555555555556,
              "#d8576b"
             ],
             [
              0.6666666666666666,
              "#ed7953"
             ],
             [
              0.7777777777777778,
              "#fb9f3a"
             ],
             [
              0.8888888888888888,
              "#fdca26"
             ],
             [
              1,
              "#f0f921"
             ]
            ],
            "type": "heatmapgl"
           }
          ],
          "histogram": [
           {
            "marker": {
             "colorbar": {
              "outlinewidth": 0,
              "ticks": ""
             }
            },
            "type": "histogram"
           }
          ],
          "histogram2d": [
           {
            "colorbar": {
             "outlinewidth": 0,
             "ticks": ""
            },
            "colorscale": [
             [
              0,
              "#0d0887"
             ],
             [
              0.1111111111111111,
              "#46039f"
             ],
             [
              0.2222222222222222,
              "#7201a8"
             ],
             [
              0.3333333333333333,
              "#9c179e"
             ],
             [
              0.4444444444444444,
              "#bd3786"
             ],
             [
              0.5555555555555556,
              "#d8576b"
             ],
             [
              0.6666666666666666,
              "#ed7953"
             ],
             [
              0.7777777777777778,
              "#fb9f3a"
             ],
             [
              0.8888888888888888,
              "#fdca26"
             ],
             [
              1,
              "#f0f921"
             ]
            ],
            "type": "histogram2d"
           }
          ],
          "histogram2dcontour": [
           {
            "colorbar": {
             "outlinewidth": 0,
             "ticks": ""
            },
            "colorscale": [
             [
              0,
              "#0d0887"
             ],
             [
              0.1111111111111111,
              "#46039f"
             ],
             [
              0.2222222222222222,
              "#7201a8"
             ],
             [
              0.3333333333333333,
              "#9c179e"
             ],
             [
              0.4444444444444444,
              "#bd3786"
             ],
             [
              0.5555555555555556,
              "#d8576b"
             ],
             [
              0.6666666666666666,
              "#ed7953"
             ],
             [
              0.7777777777777778,
              "#fb9f3a"
             ],
             [
              0.8888888888888888,
              "#fdca26"
             ],
             [
              1,
              "#f0f921"
             ]
            ],
            "type": "histogram2dcontour"
           }
          ],
          "mesh3d": [
           {
            "colorbar": {
             "outlinewidth": 0,
             "ticks": ""
            },
            "type": "mesh3d"
           }
          ],
          "parcoords": [
           {
            "line": {
             "colorbar": {
              "outlinewidth": 0,
              "ticks": ""
             }
            },
            "type": "parcoords"
           }
          ],
          "pie": [
           {
            "automargin": true,
            "type": "pie"
           }
          ],
          "scatter": [
           {
            "marker": {
             "colorbar": {
              "outlinewidth": 0,
              "ticks": ""
             }
            },
            "type": "scatter"
           }
          ],
          "scatter3d": [
           {
            "line": {
             "colorbar": {
              "outlinewidth": 0,
              "ticks": ""
             }
            },
            "marker": {
             "colorbar": {
              "outlinewidth": 0,
              "ticks": ""
             }
            },
            "type": "scatter3d"
           }
          ],
          "scattercarpet": [
           {
            "marker": {
             "colorbar": {
              "outlinewidth": 0,
              "ticks": ""
             }
            },
            "type": "scattercarpet"
           }
          ],
          "scattergeo": [
           {
            "marker": {
             "colorbar": {
              "outlinewidth": 0,
              "ticks": ""
             }
            },
            "type": "scattergeo"
           }
          ],
          "scattergl": [
           {
            "marker": {
             "colorbar": {
              "outlinewidth": 0,
              "ticks": ""
             }
            },
            "type": "scattergl"
           }
          ],
          "scattermapbox": [
           {
            "marker": {
             "colorbar": {
              "outlinewidth": 0,
              "ticks": ""
             }
            },
            "type": "scattermapbox"
           }
          ],
          "scatterpolar": [
           {
            "marker": {
             "colorbar": {
              "outlinewidth": 0,
              "ticks": ""
             }
            },
            "type": "scatterpolar"
           }
          ],
          "scatterpolargl": [
           {
            "marker": {
             "colorbar": {
              "outlinewidth": 0,
              "ticks": ""
             }
            },
            "type": "scatterpolargl"
           }
          ],
          "scatterternary": [
           {
            "marker": {
             "colorbar": {
              "outlinewidth": 0,
              "ticks": ""
             }
            },
            "type": "scatterternary"
           }
          ],
          "surface": [
           {
            "colorbar": {
             "outlinewidth": 0,
             "ticks": ""
            },
            "colorscale": [
             [
              0,
              "#0d0887"
             ],
             [
              0.1111111111111111,
              "#46039f"
             ],
             [
              0.2222222222222222,
              "#7201a8"
             ],
             [
              0.3333333333333333,
              "#9c179e"
             ],
             [
              0.4444444444444444,
              "#bd3786"
             ],
             [
              0.5555555555555556,
              "#d8576b"
             ],
             [
              0.6666666666666666,
              "#ed7953"
             ],
             [
              0.7777777777777778,
              "#fb9f3a"
             ],
             [
              0.8888888888888888,
              "#fdca26"
             ],
             [
              1,
              "#f0f921"
             ]
            ],
            "type": "surface"
           }
          ],
          "table": [
           {
            "cells": {
             "fill": {
              "color": "#EBF0F8"
             },
             "line": {
              "color": "white"
             }
            },
            "header": {
             "fill": {
              "color": "#C8D4E3"
             },
             "line": {
              "color": "white"
             }
            },
            "type": "table"
           }
          ]
         },
         "layout": {
          "annotationdefaults": {
           "arrowcolor": "#2a3f5f",
           "arrowhead": 0,
           "arrowwidth": 1
          },
          "autotypenumbers": "strict",
          "coloraxis": {
           "colorbar": {
            "outlinewidth": 0,
            "ticks": ""
           }
          },
          "colorscale": {
           "diverging": [
            [
             0,
             "#8e0152"
            ],
            [
             0.1,
             "#c51b7d"
            ],
            [
             0.2,
             "#de77ae"
            ],
            [
             0.3,
             "#f1b6da"
            ],
            [
             0.4,
             "#fde0ef"
            ],
            [
             0.5,
             "#f7f7f7"
            ],
            [
             0.6,
             "#e6f5d0"
            ],
            [
             0.7,
             "#b8e186"
            ],
            [
             0.8,
             "#7fbc41"
            ],
            [
             0.9,
             "#4d9221"
            ],
            [
             1,
             "#276419"
            ]
           ],
           "sequential": [
            [
             0,
             "#0d0887"
            ],
            [
             0.1111111111111111,
             "#46039f"
            ],
            [
             0.2222222222222222,
             "#7201a8"
            ],
            [
             0.3333333333333333,
             "#9c179e"
            ],
            [
             0.4444444444444444,
             "#bd3786"
            ],
            [
             0.5555555555555556,
             "#d8576b"
            ],
            [
             0.6666666666666666,
             "#ed7953"
            ],
            [
             0.7777777777777778,
             "#fb9f3a"
            ],
            [
             0.8888888888888888,
             "#fdca26"
            ],
            [
             1,
             "#f0f921"
            ]
           ],
           "sequentialminus": [
            [
             0,
             "#0d0887"
            ],
            [
             0.1111111111111111,
             "#46039f"
            ],
            [
             0.2222222222222222,
             "#7201a8"
            ],
            [
             0.3333333333333333,
             "#9c179e"
            ],
            [
             0.4444444444444444,
             "#bd3786"
            ],
            [
             0.5555555555555556,
             "#d8576b"
            ],
            [
             0.6666666666666666,
             "#ed7953"
            ],
            [
             0.7777777777777778,
             "#fb9f3a"
            ],
            [
             0.8888888888888888,
             "#fdca26"
            ],
            [
             1,
             "#f0f921"
            ]
           ]
          },
          "colorway": [
           "#636efa",
           "#EF553B",
           "#00cc96",
           "#ab63fa",
           "#FFA15A",
           "#19d3f3",
           "#FF6692",
           "#B6E880",
           "#FF97FF",
           "#FECB52"
          ],
          "font": {
           "color": "#2a3f5f"
          },
          "geo": {
           "bgcolor": "white",
           "lakecolor": "white",
           "landcolor": "#E5ECF6",
           "showlakes": true,
           "showland": true,
           "subunitcolor": "white"
          },
          "hoverlabel": {
           "align": "left"
          },
          "hovermode": "closest",
          "mapbox": {
           "style": "light"
          },
          "paper_bgcolor": "white",
          "plot_bgcolor": "#E5ECF6",
          "polar": {
           "angularaxis": {
            "gridcolor": "white",
            "linecolor": "white",
            "ticks": ""
           },
           "bgcolor": "#E5ECF6",
           "radialaxis": {
            "gridcolor": "white",
            "linecolor": "white",
            "ticks": ""
           }
          },
          "scene": {
           "xaxis": {
            "backgroundcolor": "#E5ECF6",
            "gridcolor": "white",
            "gridwidth": 2,
            "linecolor": "white",
            "showbackground": true,
            "ticks": "",
            "zerolinecolor": "white"
           },
           "yaxis": {
            "backgroundcolor": "#E5ECF6",
            "gridcolor": "white",
            "gridwidth": 2,
            "linecolor": "white",
            "showbackground": true,
            "ticks": "",
            "zerolinecolor": "white"
           },
           "zaxis": {
            "backgroundcolor": "#E5ECF6",
            "gridcolor": "white",
            "gridwidth": 2,
            "linecolor": "white",
            "showbackground": true,
            "ticks": "",
            "zerolinecolor": "white"
           }
          },
          "shapedefaults": {
           "line": {
            "color": "#2a3f5f"
           }
          },
          "ternary": {
           "aaxis": {
            "gridcolor": "white",
            "linecolor": "white",
            "ticks": ""
           },
           "baxis": {
            "gridcolor": "white",
            "linecolor": "white",
            "ticks": ""
           },
           "bgcolor": "#E5ECF6",
           "caxis": {
            "gridcolor": "white",
            "linecolor": "white",
            "ticks": ""
           }
          },
          "title": {
           "x": 0.05
          },
          "xaxis": {
           "automargin": true,
           "gridcolor": "white",
           "linecolor": "white",
           "ticks": "",
           "title": {
            "standoff": 15
           },
           "zerolinecolor": "white",
           "zerolinewidth": 2
          },
          "yaxis": {
           "automargin": true,
           "gridcolor": "white",
           "linecolor": "white",
           "ticks": "",
           "title": {
            "standoff": 15
           },
           "zerolinecolor": "white",
           "zerolinewidth": 2
          }
         }
        },
        "title": {
         "text": "Normed histogram of Data"
        },
        "xaxis": {
         "title": {
          "text": "Data"
         }
        },
        "yaxis": {
         "title": {
          "text": "Density"
         }
        }
       }
      }
     },
     "metadata": {}
    }
   ],
   "source": [
    "xg, pg = gaussian.plot_histogram_pdf()"
   ]
  }
 ]
}